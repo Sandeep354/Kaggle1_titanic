{
 "cells": [
  {
   "cell_type": "code",
   "execution_count": 1,
   "metadata": {
    "_cell_guid": "79c7e3d0-c299-4dcb-8224-4455121ee9b0",
    "_uuid": "d629ff2d2480ee46fbb7e2d37f6b5fab8052498a",
    "execution": {
     "iopub.execute_input": "2020-12-22T13:30:50.248595Z",
     "iopub.status.busy": "2020-12-22T13:30:50.247914Z",
     "iopub.status.idle": "2020-12-22T13:30:50.250419Z",
     "shell.execute_reply": "2020-12-22T13:30:50.250947Z"
    },
    "papermill": {
     "duration": 0.052,
     "end_time": "2020-12-22T13:30:50.251121",
     "exception": false,
     "start_time": "2020-12-22T13:30:50.199121",
     "status": "completed"
    },
    "tags": []
   },
   "outputs": [],
   "source": [
    "import pandas as pd\n",
    "import numpy as np\n",
    "import matplotlib.pyplot as plt"
   ]
  },
  {
   "cell_type": "code",
   "execution_count": 2,
   "metadata": {
    "execution": {
     "iopub.execute_input": "2020-12-22T13:30:50.336800Z",
     "iopub.status.busy": "2020-12-22T13:30:50.336121Z",
     "iopub.status.idle": "2020-12-22T13:30:50.365309Z",
     "shell.execute_reply": "2020-12-22T13:30:50.365831Z"
    },
    "papermill": {
     "duration": 0.07387,
     "end_time": "2020-12-22T13:30:50.365987",
     "exception": false,
     "start_time": "2020-12-22T13:30:50.292117",
     "status": "completed"
    },
    "tags": []
   },
   "outputs": [],
   "source": [
    "train_df = pd.read_csv('../input/titanic/train.csv')\n",
    "test_df = pd.read_csv('../input/titanic/test.csv')"
   ]
  },
  {
   "cell_type": "code",
   "execution_count": 3,
   "metadata": {
    "execution": {
     "iopub.execute_input": "2020-12-22T13:30:50.457543Z",
     "iopub.status.busy": "2020-12-22T13:30:50.456878Z",
     "iopub.status.idle": "2020-12-22T13:30:50.469017Z",
     "shell.execute_reply": "2020-12-22T13:30:50.469567Z"
    },
    "papermill": {
     "duration": 0.062895,
     "end_time": "2020-12-22T13:30:50.469733",
     "exception": false,
     "start_time": "2020-12-22T13:30:50.406838",
     "status": "completed"
    },
    "tags": []
   },
   "outputs": [
    {
     "data": {
      "text/plain": [
       "0    678\n",
       "1    118\n",
       "2     80\n",
       "5      5\n",
       "3      5\n",
       "4      4\n",
       "6      1\n",
       "Name: Parch, dtype: int64"
      ]
     },
     "execution_count": 3,
     "metadata": {},
     "output_type": "execute_result"
    }
   ],
   "source": [
    "train_df['Parch'].value_counts()"
   ]
  },
  {
   "cell_type": "code",
   "execution_count": 4,
   "metadata": {
    "execution": {
     "iopub.execute_input": "2020-12-22T13:30:50.562019Z",
     "iopub.status.busy": "2020-12-22T13:30:50.561022Z",
     "iopub.status.idle": "2020-12-22T13:30:50.564820Z",
     "shell.execute_reply": "2020-12-22T13:30:50.565337Z"
    },
    "papermill": {
     "duration": 0.053563,
     "end_time": "2020-12-22T13:30:50.565479",
     "exception": false,
     "start_time": "2020-12-22T13:30:50.511916",
     "status": "completed"
    },
    "tags": []
   },
   "outputs": [
    {
     "data": {
      "text/plain": [
       "0    324\n",
       "1     52\n",
       "2     33\n",
       "3      3\n",
       "9      2\n",
       "4      2\n",
       "6      1\n",
       "5      1\n",
       "Name: Parch, dtype: int64"
      ]
     },
     "execution_count": 4,
     "metadata": {},
     "output_type": "execute_result"
    }
   ],
   "source": [
    "test_df['Parch'].value_counts()"
   ]
  },
  {
   "cell_type": "code",
   "execution_count": 5,
   "metadata": {
    "execution": {
     "iopub.execute_input": "2020-12-22T13:30:50.653399Z",
     "iopub.status.busy": "2020-12-22T13:30:50.652359Z",
     "iopub.status.idle": "2020-12-22T13:30:50.682647Z",
     "shell.execute_reply": "2020-12-22T13:30:50.683202Z"
    },
    "papermill": {
     "duration": 0.076401,
     "end_time": "2020-12-22T13:30:50.683359",
     "exception": false,
     "start_time": "2020-12-22T13:30:50.606958",
     "status": "completed"
    },
    "tags": []
   },
   "outputs": [
    {
     "data": {
      "text/html": [
       "<div>\n",
       "<style scoped>\n",
       "    .dataframe tbody tr th:only-of-type {\n",
       "        vertical-align: middle;\n",
       "    }\n",
       "\n",
       "    .dataframe tbody tr th {\n",
       "        vertical-align: top;\n",
       "    }\n",
       "\n",
       "    .dataframe thead th {\n",
       "        text-align: right;\n",
       "    }\n",
       "</style>\n",
       "<table border=\"1\" class=\"dataframe\">\n",
       "  <thead>\n",
       "    <tr style=\"text-align: right;\">\n",
       "      <th></th>\n",
       "      <th>PassengerId</th>\n",
       "      <th>Survived</th>\n",
       "      <th>Pclass</th>\n",
       "      <th>Name</th>\n",
       "      <th>Sex</th>\n",
       "      <th>Age</th>\n",
       "      <th>SibSp</th>\n",
       "      <th>Parch</th>\n",
       "      <th>Ticket</th>\n",
       "      <th>Fare</th>\n",
       "      <th>Cabin</th>\n",
       "      <th>Embarked</th>\n",
       "    </tr>\n",
       "  </thead>\n",
       "  <tbody>\n",
       "    <tr>\n",
       "      <th>0</th>\n",
       "      <td>1</td>\n",
       "      <td>0</td>\n",
       "      <td>3</td>\n",
       "      <td>Braund, Mr. Owen Harris</td>\n",
       "      <td>male</td>\n",
       "      <td>22.0</td>\n",
       "      <td>1</td>\n",
       "      <td>0</td>\n",
       "      <td>A/5 21171</td>\n",
       "      <td>7.2500</td>\n",
       "      <td>NaN</td>\n",
       "      <td>S</td>\n",
       "    </tr>\n",
       "    <tr>\n",
       "      <th>1</th>\n",
       "      <td>2</td>\n",
       "      <td>1</td>\n",
       "      <td>1</td>\n",
       "      <td>Cumings, Mrs. John Bradley (Florence Briggs Th...</td>\n",
       "      <td>female</td>\n",
       "      <td>38.0</td>\n",
       "      <td>1</td>\n",
       "      <td>0</td>\n",
       "      <td>PC 17599</td>\n",
       "      <td>71.2833</td>\n",
       "      <td>C85</td>\n",
       "      <td>C</td>\n",
       "    </tr>\n",
       "    <tr>\n",
       "      <th>2</th>\n",
       "      <td>3</td>\n",
       "      <td>1</td>\n",
       "      <td>3</td>\n",
       "      <td>Heikkinen, Miss. Laina</td>\n",
       "      <td>female</td>\n",
       "      <td>26.0</td>\n",
       "      <td>0</td>\n",
       "      <td>0</td>\n",
       "      <td>STON/O2. 3101282</td>\n",
       "      <td>7.9250</td>\n",
       "      <td>NaN</td>\n",
       "      <td>S</td>\n",
       "    </tr>\n",
       "    <tr>\n",
       "      <th>3</th>\n",
       "      <td>4</td>\n",
       "      <td>1</td>\n",
       "      <td>1</td>\n",
       "      <td>Futrelle, Mrs. Jacques Heath (Lily May Peel)</td>\n",
       "      <td>female</td>\n",
       "      <td>35.0</td>\n",
       "      <td>1</td>\n",
       "      <td>0</td>\n",
       "      <td>113803</td>\n",
       "      <td>53.1000</td>\n",
       "      <td>C123</td>\n",
       "      <td>S</td>\n",
       "    </tr>\n",
       "    <tr>\n",
       "      <th>4</th>\n",
       "      <td>5</td>\n",
       "      <td>0</td>\n",
       "      <td>3</td>\n",
       "      <td>Allen, Mr. William Henry</td>\n",
       "      <td>male</td>\n",
       "      <td>35.0</td>\n",
       "      <td>0</td>\n",
       "      <td>0</td>\n",
       "      <td>373450</td>\n",
       "      <td>8.0500</td>\n",
       "      <td>NaN</td>\n",
       "      <td>S</td>\n",
       "    </tr>\n",
       "  </tbody>\n",
       "</table>\n",
       "</div>"
      ],
      "text/plain": [
       "   PassengerId  Survived  Pclass  \\\n",
       "0            1         0       3   \n",
       "1            2         1       1   \n",
       "2            3         1       3   \n",
       "3            4         1       1   \n",
       "4            5         0       3   \n",
       "\n",
       "                                                Name     Sex   Age  SibSp  \\\n",
       "0                            Braund, Mr. Owen Harris    male  22.0      1   \n",
       "1  Cumings, Mrs. John Bradley (Florence Briggs Th...  female  38.0      1   \n",
       "2                             Heikkinen, Miss. Laina  female  26.0      0   \n",
       "3       Futrelle, Mrs. Jacques Heath (Lily May Peel)  female  35.0      1   \n",
       "4                           Allen, Mr. William Henry    male  35.0      0   \n",
       "\n",
       "   Parch            Ticket     Fare Cabin Embarked  \n",
       "0      0         A/5 21171   7.2500   NaN        S  \n",
       "1      0          PC 17599  71.2833   C85        C  \n",
       "2      0  STON/O2. 3101282   7.9250   NaN        S  \n",
       "3      0            113803  53.1000  C123        S  \n",
       "4      0            373450   8.0500   NaN        S  "
      ]
     },
     "execution_count": 5,
     "metadata": {},
     "output_type": "execute_result"
    }
   ],
   "source": [
    "train_data = pd.read_csv('../input/titanic/train.csv')\n",
    "train_data.head()"
   ]
  },
  {
   "cell_type": "code",
   "execution_count": 6,
   "metadata": {
    "execution": {
     "iopub.execute_input": "2020-12-22T13:30:50.775266Z",
     "iopub.status.busy": "2020-12-22T13:30:50.774331Z",
     "iopub.status.idle": "2020-12-22T13:30:50.778773Z",
     "shell.execute_reply": "2020-12-22T13:30:50.779234Z"
    },
    "papermill": {
     "duration": 0.053191,
     "end_time": "2020-12-22T13:30:50.779386",
     "exception": false,
     "start_time": "2020-12-22T13:30:50.726195",
     "status": "completed"
    },
    "tags": []
   },
   "outputs": [
    {
     "data": {
      "text/plain": [
       "891"
      ]
     },
     "execution_count": 6,
     "metadata": {},
     "output_type": "execute_result"
    }
   ],
   "source": [
    "len(train_data)"
   ]
  },
  {
   "cell_type": "code",
   "execution_count": 7,
   "metadata": {
    "execution": {
     "iopub.execute_input": "2020-12-22T13:30:50.875223Z",
     "iopub.status.busy": "2020-12-22T13:30:50.874192Z",
     "iopub.status.idle": "2020-12-22T13:30:50.878835Z",
     "shell.execute_reply": "2020-12-22T13:30:50.878205Z"
    },
    "papermill": {
     "duration": 0.056797,
     "end_time": "2020-12-22T13:30:50.878957",
     "exception": false,
     "start_time": "2020-12-22T13:30:50.822160",
     "status": "completed"
    },
    "tags": []
   },
   "outputs": [
    {
     "data": {
      "text/plain": [
       "PassengerId      int64\n",
       "Survived         int64\n",
       "Pclass           int64\n",
       "Name            object\n",
       "Sex             object\n",
       "Age            float64\n",
       "SibSp            int64\n",
       "Parch            int64\n",
       "Ticket          object\n",
       "Fare           float64\n",
       "Cabin           object\n",
       "Embarked        object\n",
       "dtype: object"
      ]
     },
     "execution_count": 7,
     "metadata": {},
     "output_type": "execute_result"
    }
   ],
   "source": [
    "train_data.dtypes"
   ]
  },
  {
   "cell_type": "code",
   "execution_count": 8,
   "metadata": {
    "execution": {
     "iopub.execute_input": "2020-12-22T13:30:50.974422Z",
     "iopub.status.busy": "2020-12-22T13:30:50.973693Z",
     "iopub.status.idle": "2020-12-22T13:30:50.977808Z",
     "shell.execute_reply": "2020-12-22T13:30:50.977099Z"
    },
    "papermill": {
     "duration": 0.05582,
     "end_time": "2020-12-22T13:30:50.977927",
     "exception": false,
     "start_time": "2020-12-22T13:30:50.922107",
     "status": "completed"
    },
    "tags": []
   },
   "outputs": [
    {
     "data": {
      "text/plain": [
       "0    549\n",
       "1    342\n",
       "Name: Survived, dtype: int64"
      ]
     },
     "execution_count": 8,
     "metadata": {},
     "output_type": "execute_result"
    }
   ],
   "source": [
    "train_data['Survived'].value_counts() #label encode"
   ]
  },
  {
   "cell_type": "code",
   "execution_count": 9,
   "metadata": {
    "execution": {
     "iopub.execute_input": "2020-12-22T13:30:51.074836Z",
     "iopub.status.busy": "2020-12-22T13:30:51.073689Z",
     "iopub.status.idle": "2020-12-22T13:30:51.078645Z",
     "shell.execute_reply": "2020-12-22T13:30:51.077991Z"
    },
    "papermill": {
     "duration": 0.056695,
     "end_time": "2020-12-22T13:30:51.078795",
     "exception": false,
     "start_time": "2020-12-22T13:30:51.022100",
     "status": "completed"
    },
    "tags": []
   },
   "outputs": [
    {
     "data": {
      "text/plain": [
       "3    491\n",
       "1    216\n",
       "2    184\n",
       "Name: Pclass, dtype: int64"
      ]
     },
     "execution_count": 9,
     "metadata": {},
     "output_type": "execute_result"
    }
   ],
   "source": [
    "train_data['Pclass'].value_counts() #categorize"
   ]
  },
  {
   "cell_type": "code",
   "execution_count": 10,
   "metadata": {
    "execution": {
     "iopub.execute_input": "2020-12-22T13:30:51.176408Z",
     "iopub.status.busy": "2020-12-22T13:30:51.175655Z",
     "iopub.status.idle": "2020-12-22T13:30:51.180537Z",
     "shell.execute_reply": "2020-12-22T13:30:51.179871Z"
    },
    "papermill": {
     "duration": 0.057215,
     "end_time": "2020-12-22T13:30:51.180647",
     "exception": false,
     "start_time": "2020-12-22T13:30:51.123432",
     "status": "completed"
    },
    "tags": []
   },
   "outputs": [
    {
     "data": {
      "text/plain": [
       "male      577\n",
       "female    314\n",
       "Name: Sex, dtype: int64"
      ]
     },
     "execution_count": 10,
     "metadata": {},
     "output_type": "execute_result"
    }
   ],
   "source": [
    "train_data['Sex'].value_counts() #label encode"
   ]
  },
  {
   "cell_type": "code",
   "execution_count": 11,
   "metadata": {
    "execution": {
     "iopub.execute_input": "2020-12-22T13:30:51.279625Z",
     "iopub.status.busy": "2020-12-22T13:30:51.278961Z",
     "iopub.status.idle": "2020-12-22T13:30:51.283890Z",
     "shell.execute_reply": "2020-12-22T13:30:51.283090Z"
    },
    "papermill": {
     "duration": 0.058744,
     "end_time": "2020-12-22T13:30:51.284004",
     "exception": false,
     "start_time": "2020-12-22T13:30:51.225260",
     "status": "completed"
    },
    "tags": []
   },
   "outputs": [
    {
     "data": {
      "text/plain": [
       "24.00    30\n",
       "22.00    27\n",
       "18.00    26\n",
       "19.00    25\n",
       "30.00    25\n",
       "         ..\n",
       "55.50     1\n",
       "70.50     1\n",
       "66.00     1\n",
       "23.50     1\n",
       "0.42      1\n",
       "Name: Age, Length: 88, dtype: int64"
      ]
     },
     "execution_count": 11,
     "metadata": {},
     "output_type": "execute_result"
    }
   ],
   "source": [
    "train_data['Age'].value_counts() #not categorize but only normalize"
   ]
  },
  {
   "cell_type": "code",
   "execution_count": 12,
   "metadata": {
    "execution": {
     "iopub.execute_input": "2020-12-22T13:30:51.383158Z",
     "iopub.status.busy": "2020-12-22T13:30:51.382422Z",
     "iopub.status.idle": "2020-12-22T13:30:51.387013Z",
     "shell.execute_reply": "2020-12-22T13:30:51.386159Z"
    },
    "papermill": {
     "duration": 0.057697,
     "end_time": "2020-12-22T13:30:51.387126",
     "exception": false,
     "start_time": "2020-12-22T13:30:51.329429",
     "status": "completed"
    },
    "tags": []
   },
   "outputs": [
    {
     "data": {
      "text/plain": [
       "0    608\n",
       "1    209\n",
       "2     28\n",
       "4     18\n",
       "3     16\n",
       "8      7\n",
       "5      5\n",
       "Name: SibSp, dtype: int64"
      ]
     },
     "execution_count": 12,
     "metadata": {},
     "output_type": "execute_result"
    }
   ],
   "source": [
    "train_data['SibSp'].value_counts() #categorize"
   ]
  },
  {
   "cell_type": "code",
   "execution_count": 13,
   "metadata": {
    "execution": {
     "iopub.execute_input": "2020-12-22T13:30:51.486766Z",
     "iopub.status.busy": "2020-12-22T13:30:51.486058Z",
     "iopub.status.idle": "2020-12-22T13:30:51.490882Z",
     "shell.execute_reply": "2020-12-22T13:30:51.490165Z"
    },
    "papermill": {
     "duration": 0.057823,
     "end_time": "2020-12-22T13:30:51.491003",
     "exception": false,
     "start_time": "2020-12-22T13:30:51.433180",
     "status": "completed"
    },
    "tags": []
   },
   "outputs": [
    {
     "data": {
      "text/plain": [
       "0    678\n",
       "1    118\n",
       "2     80\n",
       "5      5\n",
       "3      5\n",
       "4      4\n",
       "6      1\n",
       "Name: Parch, dtype: int64"
      ]
     },
     "execution_count": 13,
     "metadata": {},
     "output_type": "execute_result"
    }
   ],
   "source": [
    "train_data['Parch'].value_counts() #categorize"
   ]
  },
  {
   "cell_type": "code",
   "execution_count": 14,
   "metadata": {
    "execution": {
     "iopub.execute_input": "2020-12-22T13:30:51.593588Z",
     "iopub.status.busy": "2020-12-22T13:30:51.592452Z",
     "iopub.status.idle": "2020-12-22T13:30:51.597861Z",
     "shell.execute_reply": "2020-12-22T13:30:51.597300Z"
    },
    "papermill": {
     "duration": 0.060166,
     "end_time": "2020-12-22T13:30:51.597984",
     "exception": false,
     "start_time": "2020-12-22T13:30:51.537818",
     "status": "completed"
    },
    "tags": []
   },
   "outputs": [
    {
     "data": {
      "text/plain": [
       "347082      7\n",
       "CA. 2343    7\n",
       "1601        7\n",
       "CA 2144     6\n",
       "3101295     6\n",
       "           ..\n",
       "2649        1\n",
       "11771       1\n",
       "PC 17600    1\n",
       "17464       1\n",
       "343120      1\n",
       "Name: Ticket, Length: 681, dtype: int64"
      ]
     },
     "execution_count": 14,
     "metadata": {},
     "output_type": "execute_result"
    }
   ],
   "source": [
    "train_data['Ticket'].value_counts() #categorize"
   ]
  },
  {
   "cell_type": "code",
   "execution_count": 15,
   "metadata": {
    "execution": {
     "iopub.execute_input": "2020-12-22T13:30:51.701324Z",
     "iopub.status.busy": "2020-12-22T13:30:51.700428Z",
     "iopub.status.idle": "2020-12-22T13:30:51.704548Z",
     "shell.execute_reply": "2020-12-22T13:30:51.703913Z"
    },
    "papermill": {
     "duration": 0.059879,
     "end_time": "2020-12-22T13:30:51.704657",
     "exception": false,
     "start_time": "2020-12-22T13:30:51.644778",
     "status": "completed"
    },
    "tags": []
   },
   "outputs": [
    {
     "data": {
      "text/plain": [
       "8.0500     43\n",
       "13.0000    42\n",
       "7.8958     38\n",
       "7.7500     34\n",
       "26.0000    31\n",
       "           ..\n",
       "8.4583      1\n",
       "9.8375      1\n",
       "8.3625      1\n",
       "14.1083     1\n",
       "17.4000     1\n",
       "Name: Fare, Length: 248, dtype: int64"
      ]
     },
     "execution_count": 15,
     "metadata": {},
     "output_type": "execute_result"
    }
   ],
   "source": [
    "train_data['Fare'].value_counts() #normalize"
   ]
  },
  {
   "cell_type": "code",
   "execution_count": 16,
   "metadata": {
    "execution": {
     "iopub.execute_input": "2020-12-22T13:30:51.805685Z",
     "iopub.status.busy": "2020-12-22T13:30:51.804847Z",
     "iopub.status.idle": "2020-12-22T13:30:51.810824Z",
     "shell.execute_reply": "2020-12-22T13:30:51.811438Z"
    },
    "papermill": {
     "duration": 0.059188,
     "end_time": "2020-12-22T13:30:51.811596",
     "exception": false,
     "start_time": "2020-12-22T13:30:51.752408",
     "status": "completed"
    },
    "tags": []
   },
   "outputs": [
    {
     "data": {
      "text/plain": [
       "B96 B98        4\n",
       "C23 C25 C27    4\n",
       "G6             4\n",
       "F33            3\n",
       "C22 C26        3\n",
       "              ..\n",
       "A32            1\n",
       "B82 B84        1\n",
       "T              1\n",
       "C86            1\n",
       "C30            1\n",
       "Name: Cabin, Length: 147, dtype: int64"
      ]
     },
     "execution_count": 16,
     "metadata": {},
     "output_type": "execute_result"
    }
   ],
   "source": [
    "train_data['Cabin'].value_counts() #categorize"
   ]
  },
  {
   "cell_type": "code",
   "execution_count": 17,
   "metadata": {
    "execution": {
     "iopub.execute_input": "2020-12-22T13:30:51.911694Z",
     "iopub.status.busy": "2020-12-22T13:30:51.911056Z",
     "iopub.status.idle": "2020-12-22T13:30:51.918083Z",
     "shell.execute_reply": "2020-12-22T13:30:51.918540Z"
    },
    "papermill": {
     "duration": 0.058413,
     "end_time": "2020-12-22T13:30:51.918687",
     "exception": false,
     "start_time": "2020-12-22T13:30:51.860274",
     "status": "completed"
    },
    "tags": []
   },
   "outputs": [
    {
     "data": {
      "text/plain": [
       "S    644\n",
       "C    168\n",
       "Q     77\n",
       "Name: Embarked, dtype: int64"
      ]
     },
     "execution_count": 17,
     "metadata": {},
     "output_type": "execute_result"
    }
   ],
   "source": [
    "train_data['Embarked'].value_counts() #categorize"
   ]
  },
  {
   "cell_type": "code",
   "execution_count": 18,
   "metadata": {
    "execution": {
     "iopub.execute_input": "2020-12-22T13:30:52.019278Z",
     "iopub.status.busy": "2020-12-22T13:30:52.018611Z",
     "iopub.status.idle": "2020-12-22T13:30:52.023669Z",
     "shell.execute_reply": "2020-12-22T13:30:52.024217Z"
    },
    "papermill": {
     "duration": 0.057465,
     "end_time": "2020-12-22T13:30:52.024359",
     "exception": false,
     "start_time": "2020-12-22T13:30:51.966894",
     "status": "completed"
    },
    "tags": []
   },
   "outputs": [],
   "source": [
    "add_dict = {'PassengerId':893, 'Survived':0, 'Pclass':3, 'Name':'mrwobbkle',\n",
    "            'Sex':'male', 'Age':24, 'SibSp':0, 'Parch':9, 'Ticket':'bumbay',\n",
    "            'Fare':8, 'Cabin':'doesntmatter', 'Embarked':'S'}"
   ]
  },
  {
   "cell_type": "code",
   "execution_count": 19,
   "metadata": {
    "execution": {
     "iopub.execute_input": "2020-12-22T13:30:52.125512Z",
     "iopub.status.busy": "2020-12-22T13:30:52.124859Z",
     "iopub.status.idle": "2020-12-22T13:30:52.142274Z",
     "shell.execute_reply": "2020-12-22T13:30:52.140689Z"
    },
    "papermill": {
     "duration": 0.069283,
     "end_time": "2020-12-22T13:30:52.142494",
     "exception": false,
     "start_time": "2020-12-22T13:30:52.073211",
     "status": "completed"
    },
    "tags": []
   },
   "outputs": [],
   "source": [
    "train_data = train_data.append(add_dict, ignore_index = True) "
   ]
  },
  {
   "cell_type": "code",
   "execution_count": 20,
   "metadata": {
    "execution": {
     "iopub.execute_input": "2020-12-22T13:30:52.244611Z",
     "iopub.status.busy": "2020-12-22T13:30:52.243935Z",
     "iopub.status.idle": "2020-12-22T13:30:52.247536Z",
     "shell.execute_reply": "2020-12-22T13:30:52.246916Z"
    },
    "papermill": {
     "duration": 0.056878,
     "end_time": "2020-12-22T13:30:52.247645",
     "exception": false,
     "start_time": "2020-12-22T13:30:52.190767",
     "status": "completed"
    },
    "tags": []
   },
   "outputs": [
    {
     "data": {
      "text/plain": [
       "892"
      ]
     },
     "execution_count": 20,
     "metadata": {},
     "output_type": "execute_result"
    }
   ],
   "source": [
    "len(train_data)"
   ]
  },
  {
   "cell_type": "markdown",
   "metadata": {
    "papermill": {
     "duration": 0.054205,
     "end_time": "2020-12-22T13:30:52.351617",
     "exception": false,
     "start_time": "2020-12-22T13:30:52.297412",
     "status": "completed"
    },
    "tags": []
   },
   "source": [
    "## Fill missing data"
   ]
  },
  {
   "cell_type": "code",
   "execution_count": 21,
   "metadata": {
    "execution": {
     "iopub.execute_input": "2020-12-22T13:30:52.458660Z",
     "iopub.status.busy": "2020-12-22T13:30:52.456573Z",
     "iopub.status.idle": "2020-12-22T13:30:52.463595Z",
     "shell.execute_reply": "2020-12-22T13:30:52.463035Z"
    },
    "papermill": {
     "duration": 0.062706,
     "end_time": "2020-12-22T13:30:52.463728",
     "exception": false,
     "start_time": "2020-12-22T13:30:52.401022",
     "status": "completed"
    },
    "tags": []
   },
   "outputs": [
    {
     "data": {
      "text/plain": [
       "PassengerId      0\n",
       "Survived         0\n",
       "Pclass           0\n",
       "Name             0\n",
       "Sex              0\n",
       "Age            177\n",
       "SibSp            0\n",
       "Parch            0\n",
       "Ticket           0\n",
       "Fare             0\n",
       "Cabin          687\n",
       "Embarked         2\n",
       "dtype: int64"
      ]
     },
     "execution_count": 21,
     "metadata": {},
     "output_type": "execute_result"
    }
   ],
   "source": [
    "train_data.isna().sum()"
   ]
  },
  {
   "cell_type": "code",
   "execution_count": 22,
   "metadata": {
    "execution": {
     "iopub.execute_input": "2020-12-22T13:30:52.570008Z",
     "iopub.status.busy": "2020-12-22T13:30:52.569317Z",
     "iopub.status.idle": "2020-12-22T13:30:52.573496Z",
     "shell.execute_reply": "2020-12-22T13:30:52.572130Z"
    },
    "papermill": {
     "duration": 0.06006,
     "end_time": "2020-12-22T13:30:52.573615",
     "exception": false,
     "start_time": "2020-12-22T13:30:52.513555",
     "status": "completed"
    },
    "tags": []
   },
   "outputs": [],
   "source": [
    "train_data['Age'].fillna(train_data['Age'].mean(), inplace=True)"
   ]
  },
  {
   "cell_type": "code",
   "execution_count": 23,
   "metadata": {
    "execution": {
     "iopub.execute_input": "2020-12-22T13:30:52.681754Z",
     "iopub.status.busy": "2020-12-22T13:30:52.681036Z",
     "iopub.status.idle": "2020-12-22T13:30:52.685606Z",
     "shell.execute_reply": "2020-12-22T13:30:52.684995Z"
    },
    "papermill": {
     "duration": 0.062103,
     "end_time": "2020-12-22T13:30:52.685747",
     "exception": false,
     "start_time": "2020-12-22T13:30:52.623644",
     "status": "completed"
    },
    "tags": []
   },
   "outputs": [
    {
     "data": {
      "text/plain": [
       "PassengerId      0\n",
       "Survived         0\n",
       "Pclass           0\n",
       "Name             0\n",
       "Sex              0\n",
       "Age              0\n",
       "SibSp            0\n",
       "Parch            0\n",
       "Ticket           0\n",
       "Fare             0\n",
       "Cabin          687\n",
       "Embarked         2\n",
       "dtype: int64"
      ]
     },
     "execution_count": 23,
     "metadata": {},
     "output_type": "execute_result"
    }
   ],
   "source": [
    "train_data.isna().sum()"
   ]
  },
  {
   "cell_type": "code",
   "execution_count": 24,
   "metadata": {
    "execution": {
     "iopub.execute_input": "2020-12-22T13:30:52.794844Z",
     "iopub.status.busy": "2020-12-22T13:30:52.793844Z",
     "iopub.status.idle": "2020-12-22T13:30:52.798535Z",
     "shell.execute_reply": "2020-12-22T13:30:52.797931Z"
    },
    "papermill": {
     "duration": 0.062533,
     "end_time": "2020-12-22T13:30:52.798641",
     "exception": false,
     "start_time": "2020-12-22T13:30:52.736108",
     "status": "completed"
    },
    "tags": []
   },
   "outputs": [
    {
     "data": {
      "text/plain": [
       "S    645\n",
       "C    168\n",
       "Q     77\n",
       "Name: Embarked, dtype: int64"
      ]
     },
     "execution_count": 24,
     "metadata": {},
     "output_type": "execute_result"
    }
   ],
   "source": [
    "train_data['Embarked'].value_counts()"
   ]
  },
  {
   "cell_type": "code",
   "execution_count": 25,
   "metadata": {
    "execution": {
     "iopub.execute_input": "2020-12-22T13:30:52.909140Z",
     "iopub.status.busy": "2020-12-22T13:30:52.908156Z",
     "iopub.status.idle": "2020-12-22T13:30:52.911266Z",
     "shell.execute_reply": "2020-12-22T13:30:52.910746Z"
    },
    "papermill": {
     "duration": 0.062281,
     "end_time": "2020-12-22T13:30:52.911381",
     "exception": false,
     "start_time": "2020-12-22T13:30:52.849100",
     "status": "completed"
    },
    "tags": []
   },
   "outputs": [],
   "source": [
    "# Filling with most dominanat\n",
    "train_data['Embarked'].fillna('S', inplace=True)"
   ]
  },
  {
   "cell_type": "code",
   "execution_count": 26,
   "metadata": {
    "execution": {
     "iopub.execute_input": "2020-12-22T13:30:53.023364Z",
     "iopub.status.busy": "2020-12-22T13:30:53.022608Z",
     "iopub.status.idle": "2020-12-22T13:30:53.027968Z",
     "shell.execute_reply": "2020-12-22T13:30:53.027150Z"
    },
    "papermill": {
     "duration": 0.06491,
     "end_time": "2020-12-22T13:30:53.028088",
     "exception": false,
     "start_time": "2020-12-22T13:30:52.963178",
     "status": "completed"
    },
    "tags": []
   },
   "outputs": [
    {
     "data": {
      "text/plain": [
       "PassengerId      0\n",
       "Survived         0\n",
       "Pclass           0\n",
       "Name             0\n",
       "Sex              0\n",
       "Age              0\n",
       "SibSp            0\n",
       "Parch            0\n",
       "Ticket           0\n",
       "Fare             0\n",
       "Cabin          687\n",
       "Embarked         0\n",
       "dtype: int64"
      ]
     },
     "execution_count": 26,
     "metadata": {},
     "output_type": "execute_result"
    }
   ],
   "source": [
    "train_data.isna().sum()"
   ]
  },
  {
   "cell_type": "code",
   "execution_count": 27,
   "metadata": {
    "execution": {
     "iopub.execute_input": "2020-12-22T13:30:53.140138Z",
     "iopub.status.busy": "2020-12-22T13:30:53.139074Z",
     "iopub.status.idle": "2020-12-22T13:30:53.145172Z",
     "shell.execute_reply": "2020-12-22T13:30:53.144547Z"
    },
    "papermill": {
     "duration": 0.064994,
     "end_time": "2020-12-22T13:30:53.145312",
     "exception": false,
     "start_time": "2020-12-22T13:30:53.080318",
     "status": "completed"
    },
    "tags": []
   },
   "outputs": [
    {
     "data": {
      "text/plain": [
       "pandas.core.series.Series"
      ]
     },
     "execution_count": 27,
     "metadata": {},
     "output_type": "execute_result"
    }
   ],
   "source": [
    "cabin_df = train_data['Cabin']\n",
    "type(cabin_df)"
   ]
  },
  {
   "cell_type": "code",
   "execution_count": 28,
   "metadata": {
    "execution": {
     "iopub.execute_input": "2020-12-22T13:30:53.257591Z",
     "iopub.status.busy": "2020-12-22T13:30:53.256760Z",
     "iopub.status.idle": "2020-12-22T13:30:53.260690Z",
     "shell.execute_reply": "2020-12-22T13:30:53.261310Z"
    },
    "papermill": {
     "duration": 0.064165,
     "end_time": "2020-12-22T13:30:53.261464",
     "exception": false,
     "start_time": "2020-12-22T13:30:53.197299",
     "status": "completed"
    },
    "tags": []
   },
   "outputs": [
    {
     "data": {
      "text/plain": [
       "0               NaN\n",
       "1               C85\n",
       "2               NaN\n",
       "3              C123\n",
       "4               NaN\n",
       "           ...     \n",
       "887             B42\n",
       "888             NaN\n",
       "889            C148\n",
       "890             NaN\n",
       "891    doesntmatter\n",
       "Name: Cabin, Length: 892, dtype: object"
      ]
     },
     "execution_count": 28,
     "metadata": {},
     "output_type": "execute_result"
    }
   ],
   "source": [
    "cabin_df"
   ]
  },
  {
   "cell_type": "code",
   "execution_count": 29,
   "metadata": {
    "execution": {
     "iopub.execute_input": "2020-12-22T13:30:53.376536Z",
     "iopub.status.busy": "2020-12-22T13:30:53.375862Z",
     "iopub.status.idle": "2020-12-22T13:30:54.869104Z",
     "shell.execute_reply": "2020-12-22T13:30:54.868438Z"
    },
    "papermill": {
     "duration": 1.552871,
     "end_time": "2020-12-22T13:30:54.869229",
     "exception": false,
     "start_time": "2020-12-22T13:30:53.316358",
     "status": "completed"
    },
    "tags": []
   },
   "outputs": [
    {
     "data": {
      "text/plain": [
       "<BarContainer object of 148 artists>"
      ]
     },
     "execution_count": 29,
     "metadata": {},
     "output_type": "execute_result"
    },
    {
     "data": {
      "image/png": "[encoded data removed]",
      "text/plain": [
       "<Figure size 432x288 with 1 Axes>"
      ]
     },
     "metadata": {
      "needs_background": "light"
     },
     "output_type": "display_data"
    }
   ],
   "source": [
    "plt.bar(cabin_df.value_counts().index, cabin_df.value_counts())"
   ]
  },
  {
   "cell_type": "markdown",
   "metadata": {
    "papermill": {
     "duration": 0.052901,
     "end_time": "2020-12-22T13:30:54.975966",
     "exception": false,
     "start_time": "2020-12-22T13:30:54.923065",
     "status": "completed"
    },
    "tags": []
   },
   "source": [
    "## Preprocessing the data\n",
    "\n",
    "1. Label encode for sex (and survival in label_data)\n",
    "2. One hot encode for pclass, sibsp, parch, ticket, cabin, embarked\n",
    "3. Normalise for age, fare"
   ]
  },
  {
   "cell_type": "markdown",
   "metadata": {
    "papermill": {
     "duration": 0.053841,
     "end_time": "2020-12-22T13:30:55.083461",
     "exception": false,
     "start_time": "2020-12-22T13:30:55.029620",
     "status": "completed"
    },
    "tags": []
   },
   "source": [
    "### There is a lot of missing cabins. So for the 1st model, ill just remove that column\n",
    "\n",
    "And we also dont need any names or passenger id"
   ]
  },
  {
   "cell_type": "code",
   "execution_count": 30,
   "metadata": {
    "execution": {
     "iopub.execute_input": "2020-12-22T13:30:55.209842Z",
     "iopub.status.busy": "2020-12-22T13:30:55.208910Z",
     "iopub.status.idle": "2020-12-22T13:30:55.213681Z",
     "shell.execute_reply": "2020-12-22T13:30:55.214205Z"
    },
    "papermill": {
     "duration": 0.077244,
     "end_time": "2020-12-22T13:30:55.214373",
     "exception": false,
     "start_time": "2020-12-22T13:30:55.137129",
     "status": "completed"
    },
    "tags": []
   },
   "outputs": [],
   "source": [
    "X = train_data.drop(columns=['PassengerId', 'Name', 'Survived', 'Cabin', 'Ticket']) #features\n",
    "y = train_data['Survived'] #labels "
   ]
  },
  {
   "cell_type": "code",
   "execution_count": 31,
   "metadata": {
    "execution": {
     "iopub.execute_input": "2020-12-22T13:30:55.328129Z",
     "iopub.status.busy": "2020-12-22T13:30:55.327407Z",
     "iopub.status.idle": "2020-12-22T13:31:02.144647Z",
     "shell.execute_reply": "2020-12-22T13:31:02.143930Z"
    },
    "papermill": {
     "duration": 6.876245,
     "end_time": "2020-12-22T13:31:02.144807",
     "exception": false,
     "start_time": "2020-12-22T13:30:55.268562",
     "status": "completed"
    },
    "tags": []
   },
   "outputs": [],
   "source": [
    "import tensorflow as tf\n",
    "from keras.utils import to_categorical"
   ]
  },
  {
   "cell_type": "code",
   "execution_count": 32,
   "metadata": {
    "execution": {
     "iopub.execute_input": "2020-12-22T13:31:02.267492Z",
     "iopub.status.busy": "2020-12-22T13:31:02.266375Z",
     "iopub.status.idle": "2020-12-22T13:31:02.271677Z",
     "shell.execute_reply": "2020-12-22T13:31:02.271022Z"
    },
    "papermill": {
     "duration": 0.072362,
     "end_time": "2020-12-22T13:31:02.271824",
     "exception": false,
     "start_time": "2020-12-22T13:31:02.199462",
     "status": "completed"
    },
    "tags": []
   },
   "outputs": [
    {
     "data": {
      "text/html": [
       "<div>\n",
       "<style scoped>\n",
       "    .dataframe tbody tr th:only-of-type {\n",
       "        vertical-align: middle;\n",
       "    }\n",
       "\n",
       "    .dataframe tbody tr th {\n",
       "        vertical-align: top;\n",
       "    }\n",
       "\n",
       "    .dataframe thead th {\n",
       "        text-align: right;\n",
       "    }\n",
       "</style>\n",
       "<table border=\"1\" class=\"dataframe\">\n",
       "  <thead>\n",
       "    <tr style=\"text-align: right;\">\n",
       "      <th></th>\n",
       "      <th>Pclass</th>\n",
       "      <th>Sex</th>\n",
       "      <th>Age</th>\n",
       "      <th>SibSp</th>\n",
       "      <th>Parch</th>\n",
       "      <th>Fare</th>\n",
       "      <th>Embarked</th>\n",
       "    </tr>\n",
       "  </thead>\n",
       "  <tbody>\n",
       "    <tr>\n",
       "      <th>0</th>\n",
       "      <td>3</td>\n",
       "      <td>male</td>\n",
       "      <td>22.0</td>\n",
       "      <td>1</td>\n",
       "      <td>0</td>\n",
       "      <td>7.2500</td>\n",
       "      <td>S</td>\n",
       "    </tr>\n",
       "    <tr>\n",
       "      <th>1</th>\n",
       "      <td>1</td>\n",
       "      <td>female</td>\n",
       "      <td>38.0</td>\n",
       "      <td>1</td>\n",
       "      <td>0</td>\n",
       "      <td>71.2833</td>\n",
       "      <td>C</td>\n",
       "    </tr>\n",
       "    <tr>\n",
       "      <th>2</th>\n",
       "      <td>3</td>\n",
       "      <td>female</td>\n",
       "      <td>26.0</td>\n",
       "      <td>0</td>\n",
       "      <td>0</td>\n",
       "      <td>7.9250</td>\n",
       "      <td>S</td>\n",
       "    </tr>\n",
       "    <tr>\n",
       "      <th>3</th>\n",
       "      <td>1</td>\n",
       "      <td>female</td>\n",
       "      <td>35.0</td>\n",
       "      <td>1</td>\n",
       "      <td>0</td>\n",
       "      <td>53.1000</td>\n",
       "      <td>S</td>\n",
       "    </tr>\n",
       "    <tr>\n",
       "      <th>4</th>\n",
       "      <td>3</td>\n",
       "      <td>male</td>\n",
       "      <td>35.0</td>\n",
       "      <td>0</td>\n",
       "      <td>0</td>\n",
       "      <td>8.0500</td>\n",
       "      <td>S</td>\n",
       "    </tr>\n",
       "  </tbody>\n",
       "</table>\n",
       "</div>"
      ],
      "text/plain": [
       "   Pclass     Sex   Age  SibSp  Parch     Fare Embarked\n",
       "0       3    male  22.0      1      0   7.2500        S\n",
       "1       1  female  38.0      1      0  71.2833        C\n",
       "2       3  female  26.0      0      0   7.9250        S\n",
       "3       1  female  35.0      1      0  53.1000        S\n",
       "4       3    male  35.0      0      0   8.0500        S"
      ]
     },
     "execution_count": 32,
     "metadata": {},
     "output_type": "execute_result"
    }
   ],
   "source": [
    "X.head()"
   ]
  },
  {
   "cell_type": "code",
   "execution_count": 33,
   "metadata": {
    "execution": {
     "iopub.execute_input": "2020-12-22T13:31:02.391370Z",
     "iopub.status.busy": "2020-12-22T13:31:02.390630Z",
     "iopub.status.idle": "2020-12-22T13:31:03.139239Z",
     "shell.execute_reply": "2020-12-22T13:31:03.138515Z"
    },
    "papermill": {
     "duration": 0.809124,
     "end_time": "2020-12-22T13:31:03.139359",
     "exception": false,
     "start_time": "2020-12-22T13:31:02.330235",
     "status": "completed"
    },
    "tags": []
   },
   "outputs": [],
   "source": [
    "from sklearn.preprocessing import LabelEncoder\n",
    "from sklearn.compose import ColumnTransformer\n",
    "from sklearn.preprocessing import OneHotEncoder"
   ]
  },
  {
   "cell_type": "code",
   "execution_count": 34,
   "metadata": {
    "execution": {
     "iopub.execute_input": "2020-12-22T13:31:03.252329Z",
     "iopub.status.busy": "2020-12-22T13:31:03.251643Z",
     "iopub.status.idle": "2020-12-22T13:31:03.256340Z",
     "shell.execute_reply": "2020-12-22T13:31:03.256968Z"
    },
    "papermill": {
     "duration": 0.062818,
     "end_time": "2020-12-22T13:31:03.257125",
     "exception": false,
     "start_time": "2020-12-22T13:31:03.194307",
     "status": "completed"
    },
    "tags": []
   },
   "outputs": [],
   "source": [
    "X = np.array(X)\n",
    "y = np.array(y)"
   ]
  },
  {
   "cell_type": "code",
   "execution_count": 35,
   "metadata": {
    "execution": {
     "iopub.execute_input": "2020-12-22T13:31:03.370668Z",
     "iopub.status.busy": "2020-12-22T13:31:03.369848Z",
     "iopub.status.idle": "2020-12-22T13:31:03.381589Z",
     "shell.execute_reply": "2020-12-22T13:31:03.380878Z"
    },
    "papermill": {
     "duration": 0.069754,
     "end_time": "2020-12-22T13:31:03.381730",
     "exception": false,
     "start_time": "2020-12-22T13:31:03.311976",
     "status": "completed"
    },
    "tags": []
   },
   "outputs": [],
   "source": [
    "def preprocess_data(X):\n",
    "    \n",
    "    X[:, 1] = LabelEncoder().fit_transform(X[:, 1])\n",
    "    print (X.shape)\n",
    "    X = ColumnTransformer(transformers=[('encoder', OneHotEncoder(), [0])], \n",
    "                          remainder='passthrough').fit_transform(X)\n",
    "    print (X.shape)\n",
    "    X = ColumnTransformer(transformers=[('encoder', OneHotEncoder(), [5])], \n",
    "                          remainder='passthrough').fit_transform(X)\n",
    "    print (X.shape)\n",
    "    X = ColumnTransformer(transformers=[('encoder', OneHotEncoder(), [12])], \n",
    "                          remainder='passthrough').fit_transform(X)\n",
    "    print (X.shape)\n",
    "    X = ColumnTransformer(transformers=[('encoder', OneHotEncoder(), [21])], \n",
    "                          remainder='passthrough').fit_transform(X)\n",
    "    print (X.shape)\n",
    "    \n",
    "    return X"
   ]
  },
  {
   "cell_type": "code",
   "execution_count": 36,
   "metadata": {
    "execution": {
     "iopub.execute_input": "2020-12-22T13:31:03.502444Z",
     "iopub.status.busy": "2020-12-22T13:31:03.501395Z",
     "iopub.status.idle": "2020-12-22T13:31:03.517926Z",
     "shell.execute_reply": "2020-12-22T13:31:03.518464Z"
    },
    "papermill": {
     "duration": 0.082449,
     "end_time": "2020-12-22T13:31:03.518650",
     "exception": false,
     "start_time": "2020-12-22T13:31:03.436201",
     "status": "completed"
    },
    "tags": []
   },
   "outputs": [
    {
     "name": "stdout",
     "output_type": "stream",
     "text": [
      "(892, 7)\n",
      "(892, 9)\n",
      "(892, 15)\n",
      "(892, 22)\n",
      "(892, 24)\n"
     ]
    }
   ],
   "source": [
    "X = preprocess_data(X)"
   ]
  },
  {
   "cell_type": "code",
   "execution_count": 37,
   "metadata": {
    "execution": {
     "iopub.execute_input": "2020-12-22T13:31:03.636799Z",
     "iopub.status.busy": "2020-12-22T13:31:03.636061Z",
     "iopub.status.idle": "2020-12-22T13:31:03.639130Z",
     "shell.execute_reply": "2020-12-22T13:31:03.638567Z"
    },
    "papermill": {
     "duration": 0.064988,
     "end_time": "2020-12-22T13:31:03.639241",
     "exception": false,
     "start_time": "2020-12-22T13:31:03.574253",
     "status": "completed"
    },
    "tags": []
   },
   "outputs": [],
   "source": [
    "from sklearn.preprocessing import StandardScaler\n",
    "sc = StandardScaler()"
   ]
  },
  {
   "cell_type": "code",
   "execution_count": 38,
   "metadata": {
    "execution": {
     "iopub.execute_input": "2020-12-22T13:31:03.754566Z",
     "iopub.status.busy": "2020-12-22T13:31:03.753715Z",
     "iopub.status.idle": "2020-12-22T13:31:03.827767Z",
     "shell.execute_reply": "2020-12-22T13:31:03.828291Z"
    },
    "papermill": {
     "duration": 0.133729,
     "end_time": "2020-12-22T13:31:03.828460",
     "exception": false,
     "start_time": "2020-12-22T13:31:03.694731",
     "status": "completed"
    },
    "tags": []
   },
   "outputs": [],
   "source": [
    "from sklearn.model_selection import train_test_split\n",
    "\n",
    "X_train, X_test, y_train, y_test = train_test_split(X,y,test_size=0.2, random_state=0)"
   ]
  },
  {
   "cell_type": "code",
   "execution_count": 39,
   "metadata": {
    "execution": {
     "iopub.execute_input": "2020-12-22T13:31:03.948213Z",
     "iopub.status.busy": "2020-12-22T13:31:03.947464Z",
     "iopub.status.idle": "2020-12-22T13:31:03.952966Z",
     "shell.execute_reply": "2020-12-22T13:31:03.953602Z"
    },
    "papermill": {
     "duration": 0.067863,
     "end_time": "2020-12-22T13:31:03.953775",
     "exception": false,
     "start_time": "2020-12-22T13:31:03.885912",
     "status": "completed"
    },
    "tags": []
   },
   "outputs": [],
   "source": [
    "X_train = sc.fit_transform(X_train)\n",
    "X_test = sc.transform(X_test) # not fitting to avoid information overlook/leakage of the test data"
   ]
  },
  {
   "cell_type": "code",
   "execution_count": 40,
   "metadata": {
    "execution": {
     "iopub.execute_input": "2020-12-22T13:31:04.070655Z",
     "iopub.status.busy": "2020-12-22T13:31:04.069978Z",
     "iopub.status.idle": "2020-12-22T13:31:04.077514Z",
     "shell.execute_reply": "2020-12-22T13:31:04.078018Z"
    },
    "papermill": {
     "duration": 0.067879,
     "end_time": "2020-12-22T13:31:04.078176",
     "exception": false,
     "start_time": "2020-12-22T13:31:04.010297",
     "status": "completed"
    },
    "tags": []
   },
   "outputs": [],
   "source": [
    "def ANN():\n",
    "    ann = tf.keras.models.Sequential()\n",
    "    ann.add(tf.keras.layers.Dense(units=1024, activation='relu'))\n",
    "    ann.add(tf.keras.layers.Dense(units=512, activation='relu'))\n",
    "    ann.add(tf.keras.layers.Dense(units=1, activation='sigmoid'))\n",
    "    \n",
    "    ann.compile(optimizer='adam', loss='binary_crossentropy', metrics=['accuracy'])\n",
    "    \n",
    "    return ann"
   ]
  },
  {
   "cell_type": "code",
   "execution_count": 41,
   "metadata": {
    "execution": {
     "iopub.execute_input": "2020-12-22T13:31:04.194937Z",
     "iopub.status.busy": "2020-12-22T13:31:04.194127Z",
     "iopub.status.idle": "2020-12-22T13:31:19.130809Z",
     "shell.execute_reply": "2020-12-22T13:31:19.131315Z"
    },
    "papermill": {
     "duration": 14.996197,
     "end_time": "2020-12-22T13:31:19.131475",
     "exception": false,
     "start_time": "2020-12-22T13:31:04.135278",
     "status": "completed"
    },
    "tags": []
   },
   "outputs": [
    {
     "name": "stdout",
     "output_type": "stream",
     "text": [
      "Epoch 1/100\n",
      "23/23 [==============================] - 0s 5ms/step - loss: 0.5235 - accuracy: 0.7433\n",
      "Epoch 2/100\n",
      "23/23 [==============================] - 0s 6ms/step - loss: 0.4192 - accuracy: 0.8205\n",
      "Epoch 3/100\n",
      "23/23 [==============================] - 0s 6ms/step - loss: 0.4019 - accuracy: 0.8331\n",
      "Epoch 4/100\n",
      "23/23 [==============================] - 0s 6ms/step - loss: 0.3891 - accuracy: 0.8457\n",
      "Epoch 5/100\n",
      "23/23 [==============================] - 0s 5ms/step - loss: 0.3872 - accuracy: 0.8345\n",
      "Epoch 6/100\n",
      "23/23 [==============================] - 0s 6ms/step - loss: 0.3721 - accuracy: 0.8457\n",
      "Epoch 7/100\n",
      "23/23 [==============================] - 0s 5ms/step - loss: 0.3703 - accuracy: 0.8457\n",
      "Epoch 8/100\n",
      "23/23 [==============================] - 0s 6ms/step - loss: 0.3718 - accuracy: 0.8401\n",
      "Epoch 9/100\n",
      "23/23 [==============================] - 0s 6ms/step - loss: 0.3637 - accuracy: 0.8485\n",
      "Epoch 10/100\n",
      "23/23 [==============================] - 0s 5ms/step - loss: 0.3769 - accuracy: 0.8415\n",
      "Epoch 11/100\n",
      "23/23 [==============================] - 0s 6ms/step - loss: 0.3632 - accuracy: 0.8373\n",
      "Epoch 12/100\n",
      "23/23 [==============================] - 0s 5ms/step - loss: 0.3552 - accuracy: 0.8569\n",
      "Epoch 13/100\n",
      "23/23 [==============================] - 0s 6ms/step - loss: 0.3467 - accuracy: 0.8583\n",
      "Epoch 14/100\n",
      "23/23 [==============================] - 0s 5ms/step - loss: 0.3579 - accuracy: 0.8541\n",
      "Epoch 15/100\n",
      "23/23 [==============================] - 0s 6ms/step - loss: 0.3558 - accuracy: 0.8541\n",
      "Epoch 16/100\n",
      "23/23 [==============================] - 0s 5ms/step - loss: 0.3403 - accuracy: 0.8485\n",
      "Epoch 17/100\n",
      "23/23 [==============================] - 0s 9ms/step - loss: 0.3380 - accuracy: 0.8569\n",
      "Epoch 18/100\n",
      "23/23 [==============================] - 0s 6ms/step - loss: 0.3371 - accuracy: 0.8626\n",
      "Epoch 19/100\n",
      "23/23 [==============================] - 0s 6ms/step - loss: 0.3281 - accuracy: 0.8555\n",
      "Epoch 20/100\n",
      "23/23 [==============================] - 0s 6ms/step - loss: 0.3307 - accuracy: 0.8583\n",
      "Epoch 21/100\n",
      "23/23 [==============================] - 0s 6ms/step - loss: 0.3255 - accuracy: 0.8612\n",
      "Epoch 22/100\n",
      "23/23 [==============================] - 0s 6ms/step - loss: 0.3185 - accuracy: 0.8626\n",
      "Epoch 23/100\n",
      "23/23 [==============================] - 0s 6ms/step - loss: 0.3184 - accuracy: 0.8682\n",
      "Epoch 24/100\n",
      "23/23 [==============================] - 0s 6ms/step - loss: 0.3166 - accuracy: 0.8612\n",
      "Epoch 25/100\n",
      "23/23 [==============================] - 0s 6ms/step - loss: 0.3212 - accuracy: 0.8569\n",
      "Epoch 26/100\n",
      "23/23 [==============================] - 0s 6ms/step - loss: 0.3246 - accuracy: 0.8597\n",
      "Epoch 27/100\n",
      "23/23 [==============================] - 0s 6ms/step - loss: 0.3164 - accuracy: 0.8640\n",
      "Epoch 28/100\n",
      "23/23 [==============================] - 0s 6ms/step - loss: 0.3138 - accuracy: 0.8696\n",
      "Epoch 29/100\n",
      "23/23 [==============================] - 0s 6ms/step - loss: 0.3176 - accuracy: 0.8626\n",
      "Epoch 30/100\n",
      "23/23 [==============================] - 0s 6ms/step - loss: 0.3109 - accuracy: 0.8668\n",
      "Epoch 31/100\n",
      "23/23 [==============================] - 0s 5ms/step - loss: 0.3104 - accuracy: 0.8668\n",
      "Epoch 32/100\n",
      "23/23 [==============================] - 0s 5ms/step - loss: 0.3040 - accuracy: 0.8682\n",
      "Epoch 33/100\n",
      "23/23 [==============================] - 0s 5ms/step - loss: 0.3107 - accuracy: 0.8668\n",
      "Epoch 34/100\n",
      "23/23 [==============================] - 0s 6ms/step - loss: 0.3094 - accuracy: 0.8654\n",
      "Epoch 35/100\n",
      "23/23 [==============================] - 0s 6ms/step - loss: 0.3047 - accuracy: 0.8738\n",
      "Epoch 36/100\n",
      "23/23 [==============================] - 0s 6ms/step - loss: 0.3011 - accuracy: 0.8752\n",
      "Epoch 37/100\n",
      "23/23 [==============================] - 0s 5ms/step - loss: 0.3021 - accuracy: 0.8597\n",
      "Epoch 38/100\n",
      "23/23 [==============================] - 0s 5ms/step - loss: 0.3023 - accuracy: 0.8696\n",
      "Epoch 39/100\n",
      "23/23 [==============================] - 0s 5ms/step - loss: 0.3006 - accuracy: 0.8710\n",
      "Epoch 40/100\n",
      "23/23 [==============================] - 0s 5ms/step - loss: 0.2955 - accuracy: 0.8766\n",
      "Epoch 41/100\n",
      "23/23 [==============================] - 0s 5ms/step - loss: 0.2977 - accuracy: 0.8724\n",
      "Epoch 42/100\n",
      "23/23 [==============================] - 0s 6ms/step - loss: 0.2995 - accuracy: 0.8668\n",
      "Epoch 43/100\n",
      "23/23 [==============================] - 0s 6ms/step - loss: 0.2970 - accuracy: 0.8696\n",
      "Epoch 44/100\n",
      "23/23 [==============================] - 0s 6ms/step - loss: 0.2993 - accuracy: 0.8654\n",
      "Epoch 45/100\n",
      "23/23 [==============================] - 0s 6ms/step - loss: 0.3097 - accuracy: 0.8738\n",
      "Epoch 46/100\n",
      "23/23 [==============================] - 0s 6ms/step - loss: 0.2918 - accuracy: 0.8654\n",
      "Epoch 47/100\n",
      "23/23 [==============================] - 0s 6ms/step - loss: 0.2960 - accuracy: 0.8640\n",
      "Epoch 48/100\n",
      "23/23 [==============================] - 0s 5ms/step - loss: 0.2965 - accuracy: 0.8752\n",
      "Epoch 49/100\n",
      "23/23 [==============================] - 0s 5ms/step - loss: 0.2983 - accuracy: 0.8668\n",
      "Epoch 50/100\n",
      "23/23 [==============================] - 0s 5ms/step - loss: 0.2919 - accuracy: 0.8780\n",
      "Epoch 51/100\n",
      "23/23 [==============================] - 0s 6ms/step - loss: 0.2829 - accuracy: 0.8780\n",
      "Epoch 52/100\n",
      "23/23 [==============================] - 0s 6ms/step - loss: 0.2903 - accuracy: 0.8808\n",
      "Epoch 53/100\n",
      "23/23 [==============================] - 0s 6ms/step - loss: 0.3031 - accuracy: 0.8696\n",
      "Epoch 54/100\n",
      "23/23 [==============================] - 0s 6ms/step - loss: 0.3304 - accuracy: 0.8682\n",
      "Epoch 55/100\n",
      "23/23 [==============================] - 0s 6ms/step - loss: 0.3088 - accuracy: 0.8682\n",
      "Epoch 56/100\n",
      "23/23 [==============================] - 0s 5ms/step - loss: 0.3116 - accuracy: 0.8780\n",
      "Epoch 57/100\n",
      "23/23 [==============================] - 0s 5ms/step - loss: 0.2961 - accuracy: 0.8710\n",
      "Epoch 58/100\n",
      "23/23 [==============================] - 0s 5ms/step - loss: 0.2863 - accuracy: 0.8794\n",
      "Epoch 59/100\n",
      "23/23 [==============================] - 0s 6ms/step - loss: 0.2784 - accuracy: 0.8822\n",
      "Epoch 60/100\n",
      "23/23 [==============================] - 0s 6ms/step - loss: 0.2817 - accuracy: 0.8822\n",
      "Epoch 61/100\n",
      "23/23 [==============================] - 0s 6ms/step - loss: 0.2783 - accuracy: 0.8822\n",
      "Epoch 62/100\n",
      "23/23 [==============================] - 0s 6ms/step - loss: 0.2793 - accuracy: 0.8808\n",
      "Epoch 63/100\n",
      "23/23 [==============================] - 0s 5ms/step - loss: 0.2736 - accuracy: 0.8864\n",
      "Epoch 64/100\n",
      "23/23 [==============================] - 0s 5ms/step - loss: 0.2777 - accuracy: 0.8808\n",
      "Epoch 65/100\n",
      "23/23 [==============================] - 0s 6ms/step - loss: 0.2776 - accuracy: 0.8822\n",
      "Epoch 66/100\n",
      "23/23 [==============================] - 0s 5ms/step - loss: 0.2747 - accuracy: 0.8766\n",
      "Epoch 67/100\n",
      "23/23 [==============================] - 0s 6ms/step - loss: 0.2779 - accuracy: 0.8794\n",
      "Epoch 68/100\n",
      "23/23 [==============================] - 0s 6ms/step - loss: 0.2715 - accuracy: 0.8892\n",
      "Epoch 69/100\n",
      "23/23 [==============================] - 0s 5ms/step - loss: 0.2724 - accuracy: 0.8892\n",
      "Epoch 70/100\n",
      "23/23 [==============================] - 0s 5ms/step - loss: 0.2688 - accuracy: 0.8892\n",
      "Epoch 71/100\n",
      "23/23 [==============================] - 0s 5ms/step - loss: 0.2722 - accuracy: 0.8892\n",
      "Epoch 72/100\n",
      "23/23 [==============================] - 0s 6ms/step - loss: 0.2659 - accuracy: 0.8892\n",
      "Epoch 73/100\n",
      "23/23 [==============================] - 0s 5ms/step - loss: 0.2717 - accuracy: 0.8836\n",
      "Epoch 74/100\n",
      "23/23 [==============================] - 0s 5ms/step - loss: 0.2698 - accuracy: 0.8850\n",
      "Epoch 75/100\n",
      "23/23 [==============================] - 0s 5ms/step - loss: 0.2777 - accuracy: 0.8808\n",
      "Epoch 76/100\n",
      "23/23 [==============================] - 0s 6ms/step - loss: 0.2745 - accuracy: 0.8850\n",
      "Epoch 77/100\n",
      "23/23 [==============================] - 0s 5ms/step - loss: 0.2750 - accuracy: 0.8766\n",
      "Epoch 78/100\n",
      "23/23 [==============================] - 0s 6ms/step - loss: 0.2694 - accuracy: 0.8878\n",
      "Epoch 79/100\n",
      "23/23 [==============================] - 0s 6ms/step - loss: 0.2684 - accuracy: 0.8948\n",
      "Epoch 80/100\n",
      "23/23 [==============================] - 0s 6ms/step - loss: 0.2665 - accuracy: 0.8864\n",
      "Epoch 81/100\n",
      "23/23 [==============================] - 0s 7ms/step - loss: 0.2624 - accuracy: 0.8878\n",
      "Epoch 82/100\n",
      "23/23 [==============================] - 0s 7ms/step - loss: 0.2685 - accuracy: 0.8920\n",
      "Epoch 83/100\n",
      "23/23 [==============================] - 0s 5ms/step - loss: 0.2606 - accuracy: 0.8822\n",
      "Epoch 84/100\n",
      "23/23 [==============================] - 0s 6ms/step - loss: 0.2548 - accuracy: 0.8920\n",
      "Epoch 85/100\n",
      "23/23 [==============================] - 0s 5ms/step - loss: 0.2601 - accuracy: 0.8906\n",
      "Epoch 86/100\n",
      "23/23 [==============================] - 0s 6ms/step - loss: 0.2582 - accuracy: 0.8878\n",
      "Epoch 87/100\n",
      "23/23 [==============================] - 0s 5ms/step - loss: 0.2655 - accuracy: 0.8920\n",
      "Epoch 88/100\n",
      "23/23 [==============================] - 0s 5ms/step - loss: 0.2611 - accuracy: 0.8864\n",
      "Epoch 89/100\n",
      "23/23 [==============================] - 0s 5ms/step - loss: 0.2564 - accuracy: 0.8878\n",
      "Epoch 90/100\n",
      "23/23 [==============================] - 0s 5ms/step - loss: 0.2558 - accuracy: 0.8948\n",
      "Epoch 91/100\n",
      "23/23 [==============================] - 0s 5ms/step - loss: 0.2570 - accuracy: 0.8906\n",
      "Epoch 92/100\n",
      "23/23 [==============================] - 0s 6ms/step - loss: 0.2568 - accuracy: 0.8822\n",
      "Epoch 93/100\n",
      "23/23 [==============================] - 0s 6ms/step - loss: 0.2581 - accuracy: 0.8948\n",
      "Epoch 94/100\n",
      "23/23 [==============================] - 0s 5ms/step - loss: 0.2540 - accuracy: 0.8948\n",
      "Epoch 95/100\n",
      "23/23 [==============================] - 0s 6ms/step - loss: 0.2516 - accuracy: 0.8962\n",
      "Epoch 96/100\n",
      "23/23 [==============================] - 0s 5ms/step - loss: 0.2558 - accuracy: 0.8780\n",
      "Epoch 97/100\n",
      "23/23 [==============================] - 0s 6ms/step - loss: 0.2543 - accuracy: 0.8906\n",
      "Epoch 98/100\n",
      "23/23 [==============================] - 0s 5ms/step - loss: 0.2527 - accuracy: 0.8934\n",
      "Epoch 99/100\n",
      "23/23 [==============================] - 0s 5ms/step - loss: 0.2495 - accuracy: 0.8948\n",
      "Epoch 100/100\n",
      "23/23 [==============================] - 0s 6ms/step - loss: 0.2568 - accuracy: 0.8920\n"
     ]
    },
    {
     "data": {
      "text/plain": [
       "<tensorflow.python.keras.callbacks.History at 0x7fb7240ed750>"
      ]
     },
     "execution_count": 41,
     "metadata": {},
     "output_type": "execute_result"
    }
   ],
   "source": [
    "model = ANN()\n",
    "model.fit(x=X_train, y=y_train, batch_size=32, epochs=100)"
   ]
  },
  {
   "cell_type": "code",
   "execution_count": 42,
   "metadata": {
    "execution": {
     "iopub.execute_input": "2020-12-22T13:31:19.528084Z",
     "iopub.status.busy": "2020-12-22T13:31:19.526993Z",
     "iopub.status.idle": "2020-12-22T13:31:19.547157Z",
     "shell.execute_reply": "2020-12-22T13:31:19.547655Z"
    },
    "papermill": {
     "duration": 0.222761,
     "end_time": "2020-12-22T13:31:19.547964",
     "exception": false,
     "start_time": "2020-12-22T13:31:19.325203",
     "status": "completed"
    },
    "tags": []
   },
   "outputs": [
    {
     "data": {
      "text/html": [
       "<div>\n",
       "<style scoped>\n",
       "    .dataframe tbody tr th:only-of-type {\n",
       "        vertical-align: middle;\n",
       "    }\n",
       "\n",
       "    .dataframe tbody tr th {\n",
       "        vertical-align: top;\n",
       "    }\n",
       "\n",
       "    .dataframe thead th {\n",
       "        text-align: right;\n",
       "    }\n",
       "</style>\n",
       "<table border=\"1\" class=\"dataframe\">\n",
       "  <thead>\n",
       "    <tr style=\"text-align: right;\">\n",
       "      <th></th>\n",
       "      <th>PassengerId</th>\n",
       "      <th>Pclass</th>\n",
       "      <th>Name</th>\n",
       "      <th>Sex</th>\n",
       "      <th>Age</th>\n",
       "      <th>SibSp</th>\n",
       "      <th>Parch</th>\n",
       "      <th>Ticket</th>\n",
       "      <th>Fare</th>\n",
       "      <th>Cabin</th>\n",
       "      <th>Embarked</th>\n",
       "    </tr>\n",
       "  </thead>\n",
       "  <tbody>\n",
       "    <tr>\n",
       "      <th>0</th>\n",
       "      <td>892</td>\n",
       "      <td>3</td>\n",
       "      <td>Kelly, Mr. James</td>\n",
       "      <td>male</td>\n",
       "      <td>34.5</td>\n",
       "      <td>0</td>\n",
       "      <td>0</td>\n",
       "      <td>330911</td>\n",
       "      <td>7.8292</td>\n",
       "      <td>NaN</td>\n",
       "      <td>Q</td>\n",
       "    </tr>\n",
       "    <tr>\n",
       "      <th>1</th>\n",
       "      <td>893</td>\n",
       "      <td>3</td>\n",
       "      <td>Wilkes, Mrs. James (Ellen Needs)</td>\n",
       "      <td>female</td>\n",
       "      <td>47.0</td>\n",
       "      <td>1</td>\n",
       "      <td>0</td>\n",
       "      <td>363272</td>\n",
       "      <td>7.0000</td>\n",
       "      <td>NaN</td>\n",
       "      <td>S</td>\n",
       "    </tr>\n",
       "    <tr>\n",
       "      <th>2</th>\n",
       "      <td>894</td>\n",
       "      <td>2</td>\n",
       "      <td>Myles, Mr. Thomas Francis</td>\n",
       "      <td>male</td>\n",
       "      <td>62.0</td>\n",
       "      <td>0</td>\n",
       "      <td>0</td>\n",
       "      <td>240276</td>\n",
       "      <td>9.6875</td>\n",
       "      <td>NaN</td>\n",
       "      <td>Q</td>\n",
       "    </tr>\n",
       "    <tr>\n",
       "      <th>3</th>\n",
       "      <td>895</td>\n",
       "      <td>3</td>\n",
       "      <td>Wirz, Mr. Albert</td>\n",
       "      <td>male</td>\n",
       "      <td>27.0</td>\n",
       "      <td>0</td>\n",
       "      <td>0</td>\n",
       "      <td>315154</td>\n",
       "      <td>8.6625</td>\n",
       "      <td>NaN</td>\n",
       "      <td>S</td>\n",
       "    </tr>\n",
       "    <tr>\n",
       "      <th>4</th>\n",
       "      <td>896</td>\n",
       "      <td>3</td>\n",
       "      <td>Hirvonen, Mrs. Alexander (Helga E Lindqvist)</td>\n",
       "      <td>female</td>\n",
       "      <td>22.0</td>\n",
       "      <td>1</td>\n",
       "      <td>1</td>\n",
       "      <td>3101298</td>\n",
       "      <td>12.2875</td>\n",
       "      <td>NaN</td>\n",
       "      <td>S</td>\n",
       "    </tr>\n",
       "  </tbody>\n",
       "</table>\n",
       "</div>"
      ],
      "text/plain": [
       "   PassengerId  Pclass                                          Name     Sex  \\\n",
       "0          892       3                              Kelly, Mr. James    male   \n",
       "1          893       3              Wilkes, Mrs. James (Ellen Needs)  female   \n",
       "2          894       2                     Myles, Mr. Thomas Francis    male   \n",
       "3          895       3                              Wirz, Mr. Albert    male   \n",
       "4          896       3  Hirvonen, Mrs. Alexander (Helga E Lindqvist)  female   \n",
       "\n",
       "    Age  SibSp  Parch   Ticket     Fare Cabin Embarked  \n",
       "0  34.5      0      0   330911   7.8292   NaN        Q  \n",
       "1  47.0      1      0   363272   7.0000   NaN        S  \n",
       "2  62.0      0      0   240276   9.6875   NaN        Q  \n",
       "3  27.0      0      0   315154   8.6625   NaN        S  \n",
       "4  22.0      1      1  3101298  12.2875   NaN        S  "
      ]
     },
     "execution_count": 42,
     "metadata": {},
     "output_type": "execute_result"
    }
   ],
   "source": [
    "test_df = pd.read_csv('../input/titanic/test.csv')\n",
    "test_df.head()"
   ]
  },
  {
   "cell_type": "code",
   "execution_count": 43,
   "metadata": {
    "execution": {
     "iopub.execute_input": "2020-12-22T13:31:19.980160Z",
     "iopub.status.busy": "2020-12-22T13:31:19.979170Z",
     "iopub.status.idle": "2020-12-22T13:31:19.987277Z",
     "shell.execute_reply": "2020-12-22T13:31:19.987774Z"
    },
    "papermill": {
     "duration": 0.238992,
     "end_time": "2020-12-22T13:31:19.987929",
     "exception": false,
     "start_time": "2020-12-22T13:31:19.748937",
     "status": "completed"
    },
    "tags": []
   },
   "outputs": [
    {
     "data": {
      "text/plain": [
       "PassengerId      0\n",
       "Pclass           0\n",
       "Name             0\n",
       "Sex              0\n",
       "Age             86\n",
       "SibSp            0\n",
       "Parch            0\n",
       "Ticket           0\n",
       "Fare             1\n",
       "Cabin          327\n",
       "Embarked         0\n",
       "dtype: int64"
      ]
     },
     "execution_count": 43,
     "metadata": {},
     "output_type": "execute_result"
    }
   ],
   "source": [
    "test_df.isna().sum()"
   ]
  },
  {
   "cell_type": "code",
   "execution_count": 44,
   "metadata": {
    "execution": {
     "iopub.execute_input": "2020-12-22T13:31:20.391151Z",
     "iopub.status.busy": "2020-12-22T13:31:20.390107Z",
     "iopub.status.idle": "2020-12-22T13:31:20.396087Z",
     "shell.execute_reply": "2020-12-22T13:31:20.396621Z"
    },
    "papermill": {
     "duration": 0.20447,
     "end_time": "2020-12-22T13:31:20.396780",
     "exception": false,
     "start_time": "2020-12-22T13:31:20.192310",
     "status": "completed"
    },
    "tags": []
   },
   "outputs": [],
   "source": [
    "test_df = test_df.drop(columns=['PassengerId', 'Name', 'Cabin', 'Ticket']) #features"
   ]
  },
  {
   "cell_type": "code",
   "execution_count": 45,
   "metadata": {
    "execution": {
     "iopub.execute_input": "2020-12-22T13:31:20.798421Z",
     "iopub.status.busy": "2020-12-22T13:31:20.797416Z",
     "iopub.status.idle": "2020-12-22T13:31:20.811684Z",
     "shell.execute_reply": "2020-12-22T13:31:20.811131Z"
    },
    "papermill": {
     "duration": 0.21408,
     "end_time": "2020-12-22T13:31:20.811823",
     "exception": false,
     "start_time": "2020-12-22T13:31:20.597743",
     "status": "completed"
    },
    "tags": []
   },
   "outputs": [
    {
     "data": {
      "text/html": [
       "<div>\n",
       "<style scoped>\n",
       "    .dataframe tbody tr th:only-of-type {\n",
       "        vertical-align: middle;\n",
       "    }\n",
       "\n",
       "    .dataframe tbody tr th {\n",
       "        vertical-align: top;\n",
       "    }\n",
       "\n",
       "    .dataframe thead th {\n",
       "        text-align: right;\n",
       "    }\n",
       "</style>\n",
       "<table border=\"1\" class=\"dataframe\">\n",
       "  <thead>\n",
       "    <tr style=\"text-align: right;\">\n",
       "      <th></th>\n",
       "      <th>Pclass</th>\n",
       "      <th>Sex</th>\n",
       "      <th>Age</th>\n",
       "      <th>SibSp</th>\n",
       "      <th>Parch</th>\n",
       "      <th>Fare</th>\n",
       "      <th>Embarked</th>\n",
       "    </tr>\n",
       "  </thead>\n",
       "  <tbody>\n",
       "    <tr>\n",
       "      <th>0</th>\n",
       "      <td>3</td>\n",
       "      <td>male</td>\n",
       "      <td>34.5</td>\n",
       "      <td>0</td>\n",
       "      <td>0</td>\n",
       "      <td>7.8292</td>\n",
       "      <td>Q</td>\n",
       "    </tr>\n",
       "    <tr>\n",
       "      <th>1</th>\n",
       "      <td>3</td>\n",
       "      <td>female</td>\n",
       "      <td>47.0</td>\n",
       "      <td>1</td>\n",
       "      <td>0</td>\n",
       "      <td>7.0000</td>\n",
       "      <td>S</td>\n",
       "    </tr>\n",
       "    <tr>\n",
       "      <th>2</th>\n",
       "      <td>2</td>\n",
       "      <td>male</td>\n",
       "      <td>62.0</td>\n",
       "      <td>0</td>\n",
       "      <td>0</td>\n",
       "      <td>9.6875</td>\n",
       "      <td>Q</td>\n",
       "    </tr>\n",
       "    <tr>\n",
       "      <th>3</th>\n",
       "      <td>3</td>\n",
       "      <td>male</td>\n",
       "      <td>27.0</td>\n",
       "      <td>0</td>\n",
       "      <td>0</td>\n",
       "      <td>8.6625</td>\n",
       "      <td>S</td>\n",
       "    </tr>\n",
       "    <tr>\n",
       "      <th>4</th>\n",
       "      <td>3</td>\n",
       "      <td>female</td>\n",
       "      <td>22.0</td>\n",
       "      <td>1</td>\n",
       "      <td>1</td>\n",
       "      <td>12.2875</td>\n",
       "      <td>S</td>\n",
       "    </tr>\n",
       "  </tbody>\n",
       "</table>\n",
       "</div>"
      ],
      "text/plain": [
       "   Pclass     Sex   Age  SibSp  Parch     Fare Embarked\n",
       "0       3    male  34.5      0      0   7.8292        Q\n",
       "1       3  female  47.0      1      0   7.0000        S\n",
       "2       2    male  62.0      0      0   9.6875        Q\n",
       "3       3    male  27.0      0      0   8.6625        S\n",
       "4       3  female  22.0      1      1  12.2875        S"
      ]
     },
     "execution_count": 45,
     "metadata": {},
     "output_type": "execute_result"
    }
   ],
   "source": [
    "test_df.head()"
   ]
  },
  {
   "cell_type": "code",
   "execution_count": 46,
   "metadata": {
    "execution": {
     "iopub.execute_input": "2020-12-22T13:31:21.215407Z",
     "iopub.status.busy": "2020-12-22T13:31:21.214660Z",
     "iopub.status.idle": "2020-12-22T13:31:21.219070Z",
     "shell.execute_reply": "2020-12-22T13:31:21.218494Z"
    },
    "papermill": {
     "duration": 0.209355,
     "end_time": "2020-12-22T13:31:21.219197",
     "exception": false,
     "start_time": "2020-12-22T13:31:21.009842",
     "status": "completed"
    },
    "tags": []
   },
   "outputs": [
    {
     "data": {
      "text/plain": [
       "Pclass       0\n",
       "Sex          0\n",
       "Age         86\n",
       "SibSp        0\n",
       "Parch        0\n",
       "Fare         1\n",
       "Embarked     0\n",
       "dtype: int64"
      ]
     },
     "execution_count": 46,
     "metadata": {},
     "output_type": "execute_result"
    }
   ],
   "source": [
    "test_df.isna().sum()"
   ]
  },
  {
   "cell_type": "code",
   "execution_count": 47,
   "metadata": {
    "execution": {
     "iopub.execute_input": "2020-12-22T13:31:21.613718Z",
     "iopub.status.busy": "2020-12-22T13:31:21.613031Z",
     "iopub.status.idle": "2020-12-22T13:31:21.616894Z",
     "shell.execute_reply": "2020-12-22T13:31:21.616299Z"
    },
    "papermill": {
     "duration": 0.204052,
     "end_time": "2020-12-22T13:31:21.617025",
     "exception": false,
     "start_time": "2020-12-22T13:31:21.412973",
     "status": "completed"
    },
    "tags": []
   },
   "outputs": [],
   "source": [
    "test_df['Fare'].fillna(test_df['Fare'].mean(), inplace=True)"
   ]
  },
  {
   "cell_type": "code",
   "execution_count": 48,
   "metadata": {
    "execution": {
     "iopub.execute_input": "2020-12-22T13:31:22.015878Z",
     "iopub.status.busy": "2020-12-22T13:31:22.015118Z",
     "iopub.status.idle": "2020-12-22T13:31:22.022460Z",
     "shell.execute_reply": "2020-12-22T13:31:22.023012Z"
    },
    "papermill": {
     "duration": 0.20883,
     "end_time": "2020-12-22T13:31:22.023161",
     "exception": false,
     "start_time": "2020-12-22T13:31:21.814331",
     "status": "completed"
    },
    "tags": []
   },
   "outputs": [
    {
     "data": {
      "text/plain": [
       "Pclass       0\n",
       "Sex          0\n",
       "Age         86\n",
       "SibSp        0\n",
       "Parch        0\n",
       "Fare         0\n",
       "Embarked     0\n",
       "dtype: int64"
      ]
     },
     "execution_count": 48,
     "metadata": {},
     "output_type": "execute_result"
    }
   ],
   "source": [
    "test_df.isna().sum()"
   ]
  },
  {
   "cell_type": "code",
   "execution_count": 49,
   "metadata": {
    "execution": {
     "iopub.execute_input": "2020-12-22T13:31:22.421565Z",
     "iopub.status.busy": "2020-12-22T13:31:22.418575Z",
     "iopub.status.idle": "2020-12-22T13:31:22.424942Z",
     "shell.execute_reply": "2020-12-22T13:31:22.424350Z"
    },
    "papermill": {
     "duration": 0.206128,
     "end_time": "2020-12-22T13:31:22.425066",
     "exception": false,
     "start_time": "2020-12-22T13:31:22.218938",
     "status": "completed"
    },
    "tags": []
   },
   "outputs": [],
   "source": [
    "test_df['Age'].fillna(test_df['Age'].mean(), inplace=True)"
   ]
  },
  {
   "cell_type": "code",
   "execution_count": 50,
   "metadata": {
    "execution": {
     "iopub.execute_input": "2020-12-22T13:31:22.823942Z",
     "iopub.status.busy": "2020-12-22T13:31:22.823232Z",
     "iopub.status.idle": "2020-12-22T13:31:22.828724Z",
     "shell.execute_reply": "2020-12-22T13:31:22.828170Z"
    },
    "papermill": {
     "duration": 0.208048,
     "end_time": "2020-12-22T13:31:22.828845",
     "exception": false,
     "start_time": "2020-12-22T13:31:22.620797",
     "status": "completed"
    },
    "tags": []
   },
   "outputs": [
    {
     "data": {
      "text/plain": [
       "Pclass      0\n",
       "Sex         0\n",
       "Age         0\n",
       "SibSp       0\n",
       "Parch       0\n",
       "Fare        0\n",
       "Embarked    0\n",
       "dtype: int64"
      ]
     },
     "execution_count": 50,
     "metadata": {},
     "output_type": "execute_result"
    }
   ],
   "source": [
    "test_df.isna().sum()"
   ]
  },
  {
   "cell_type": "code",
   "execution_count": 51,
   "metadata": {
    "execution": {
     "iopub.execute_input": "2020-12-22T13:31:23.237839Z",
     "iopub.status.busy": "2020-12-22T13:31:23.237091Z",
     "iopub.status.idle": "2020-12-22T13:31:23.241088Z",
     "shell.execute_reply": "2020-12-22T13:31:23.240439Z"
    },
    "papermill": {
     "duration": 0.213917,
     "end_time": "2020-12-22T13:31:23.241201",
     "exception": false,
     "start_time": "2020-12-22T13:31:23.027284",
     "status": "completed"
    },
    "tags": []
   },
   "outputs": [
    {
     "data": {
      "text/html": [
       "<div>\n",
       "<style scoped>\n",
       "    .dataframe tbody tr th:only-of-type {\n",
       "        vertical-align: middle;\n",
       "    }\n",
       "\n",
       "    .dataframe tbody tr th {\n",
       "        vertical-align: top;\n",
       "    }\n",
       "\n",
       "    .dataframe thead th {\n",
       "        text-align: right;\n",
       "    }\n",
       "</style>\n",
       "<table border=\"1\" class=\"dataframe\">\n",
       "  <thead>\n",
       "    <tr style=\"text-align: right;\">\n",
       "      <th></th>\n",
       "      <th>Pclass</th>\n",
       "      <th>Sex</th>\n",
       "      <th>Age</th>\n",
       "      <th>SibSp</th>\n",
       "      <th>Parch</th>\n",
       "      <th>Fare</th>\n",
       "      <th>Embarked</th>\n",
       "    </tr>\n",
       "  </thead>\n",
       "  <tbody>\n",
       "    <tr>\n",
       "      <th>0</th>\n",
       "      <td>3</td>\n",
       "      <td>male</td>\n",
       "      <td>34.5</td>\n",
       "      <td>0</td>\n",
       "      <td>0</td>\n",
       "      <td>7.8292</td>\n",
       "      <td>Q</td>\n",
       "    </tr>\n",
       "    <tr>\n",
       "      <th>1</th>\n",
       "      <td>3</td>\n",
       "      <td>female</td>\n",
       "      <td>47.0</td>\n",
       "      <td>1</td>\n",
       "      <td>0</td>\n",
       "      <td>7.0000</td>\n",
       "      <td>S</td>\n",
       "    </tr>\n",
       "    <tr>\n",
       "      <th>2</th>\n",
       "      <td>2</td>\n",
       "      <td>male</td>\n",
       "      <td>62.0</td>\n",
       "      <td>0</td>\n",
       "      <td>0</td>\n",
       "      <td>9.6875</td>\n",
       "      <td>Q</td>\n",
       "    </tr>\n",
       "    <tr>\n",
       "      <th>3</th>\n",
       "      <td>3</td>\n",
       "      <td>male</td>\n",
       "      <td>27.0</td>\n",
       "      <td>0</td>\n",
       "      <td>0</td>\n",
       "      <td>8.6625</td>\n",
       "      <td>S</td>\n",
       "    </tr>\n",
       "    <tr>\n",
       "      <th>4</th>\n",
       "      <td>3</td>\n",
       "      <td>female</td>\n",
       "      <td>22.0</td>\n",
       "      <td>1</td>\n",
       "      <td>1</td>\n",
       "      <td>12.2875</td>\n",
       "      <td>S</td>\n",
       "    </tr>\n",
       "  </tbody>\n",
       "</table>\n",
       "</div>"
      ],
      "text/plain": [
       "   Pclass     Sex   Age  SibSp  Parch     Fare Embarked\n",
       "0       3    male  34.5      0      0   7.8292        Q\n",
       "1       3  female  47.0      1      0   7.0000        S\n",
       "2       2    male  62.0      0      0   9.6875        Q\n",
       "3       3    male  27.0      0      0   8.6625        S\n",
       "4       3  female  22.0      1      1  12.2875        S"
      ]
     },
     "execution_count": 51,
     "metadata": {},
     "output_type": "execute_result"
    }
   ],
   "source": [
    "test_df.head()"
   ]
  },
  {
   "cell_type": "code",
   "execution_count": 52,
   "metadata": {
    "execution": {
     "iopub.execute_input": "2020-12-22T13:31:23.639442Z",
     "iopub.status.busy": "2020-12-22T13:31:23.638747Z",
     "iopub.status.idle": "2020-12-22T13:31:23.646497Z",
     "shell.execute_reply": "2020-12-22T13:31:23.645896Z"
    },
    "papermill": {
     "duration": 0.207653,
     "end_time": "2020-12-22T13:31:23.646621",
     "exception": false,
     "start_time": "2020-12-22T13:31:23.438968",
     "status": "completed"
    },
    "tags": []
   },
   "outputs": [
    {
     "name": "stdout",
     "output_type": "stream",
     "text": [
      "(418, 7)\n"
     ]
    }
   ],
   "source": [
    "test_data = np.array(test_df)\n",
    "print (test_data.shape)"
   ]
  },
  {
   "cell_type": "code",
   "execution_count": 53,
   "metadata": {
    "execution": {
     "iopub.execute_input": "2020-12-22T13:31:24.049780Z",
     "iopub.status.busy": "2020-12-22T13:31:24.048726Z",
     "iopub.status.idle": "2020-12-22T13:31:24.066011Z",
     "shell.execute_reply": "2020-12-22T13:31:24.065426Z"
    },
    "papermill": {
     "duration": 0.218693,
     "end_time": "2020-12-22T13:31:24.066136",
     "exception": false,
     "start_time": "2020-12-22T13:31:23.847443",
     "status": "completed"
    },
    "tags": []
   },
   "outputs": [
    {
     "name": "stdout",
     "output_type": "stream",
     "text": [
      "(418, 7)\n",
      "(418, 9)\n",
      "(418, 15)\n",
      "(418, 22)\n",
      "(418, 24)\n"
     ]
    }
   ],
   "source": [
    "data_to_pred = preprocess_data(test_data)"
   ]
  },
  {
   "cell_type": "code",
   "execution_count": 54,
   "metadata": {
    "execution": {
     "iopub.execute_input": "2020-12-22T13:31:24.467254Z",
     "iopub.status.busy": "2020-12-22T13:31:24.466223Z",
     "iopub.status.idle": "2020-12-22T13:31:24.470956Z",
     "shell.execute_reply": "2020-12-22T13:31:24.470380Z"
    },
    "papermill": {
     "duration": 0.206807,
     "end_time": "2020-12-22T13:31:24.471077",
     "exception": false,
     "start_time": "2020-12-22T13:31:24.264270",
     "status": "completed"
    },
    "tags": []
   },
   "outputs": [
    {
     "data": {
      "text/plain": [
       "(418, 24)"
      ]
     },
     "execution_count": 54,
     "metadata": {},
     "output_type": "execute_result"
    }
   ],
   "source": [
    "data_to_pred.shape"
   ]
  },
  {
   "cell_type": "code",
   "execution_count": 55,
   "metadata": {
    "execution": {
     "iopub.execute_input": "2020-12-22T13:31:24.873725Z",
     "iopub.status.busy": "2020-12-22T13:31:24.873018Z",
     "iopub.status.idle": "2020-12-22T13:31:24.876368Z",
     "shell.execute_reply": "2020-12-22T13:31:24.876986Z"
    },
    "papermill": {
     "duration": 0.20753,
     "end_time": "2020-12-22T13:31:24.877150",
     "exception": false,
     "start_time": "2020-12-22T13:31:24.669620",
     "status": "completed"
    },
    "tags": []
   },
   "outputs": [
    {
     "data": {
      "text/plain": [
       "array([[0.0, 1.0, 0.0, ..., 1, 34.5, 7.8292],\n",
       "       [0.0, 0.0, 1.0, ..., 0, 47.0, 7.0],\n",
       "       [0.0, 1.0, 0.0, ..., 1, 62.0, 9.6875],\n",
       "       ...,\n",
       "       [0.0, 0.0, 1.0, ..., 1, 38.5, 7.25],\n",
       "       [0.0, 0.0, 1.0, ..., 1, 30.272590361445783, 8.05],\n",
       "       [1.0, 0.0, 0.0, ..., 1, 30.272590361445783, 22.3583]], dtype=object)"
      ]
     },
     "execution_count": 55,
     "metadata": {},
     "output_type": "execute_result"
    }
   ],
   "source": [
    "data_to_pred"
   ]
  },
  {
   "cell_type": "code",
   "execution_count": 56,
   "metadata": {
    "execution": {
     "iopub.execute_input": "2020-12-22T13:31:25.285402Z",
     "iopub.status.busy": "2020-12-22T13:31:25.284664Z",
     "iopub.status.idle": "2020-12-22T13:31:25.288650Z",
     "shell.execute_reply": "2020-12-22T13:31:25.288064Z"
    },
    "papermill": {
     "duration": 0.210411,
     "end_time": "2020-12-22T13:31:25.288813",
     "exception": false,
     "start_time": "2020-12-22T13:31:25.078402",
     "status": "completed"
    },
    "tags": []
   },
   "outputs": [],
   "source": [
    "scaled_test_data = sc.transform(data_to_pred)"
   ]
  },
  {
   "cell_type": "code",
   "execution_count": 57,
   "metadata": {
    "collapsed": true,
    "execution": {
     "iopub.execute_input": "2020-12-22T13:31:25.695420Z",
     "iopub.status.busy": "2020-12-22T13:31:25.694715Z",
     "iopub.status.idle": "2020-12-22T13:31:25.847690Z",
     "shell.execute_reply": "2020-12-22T13:31:25.848294Z"
    },
    "papermill": {
     "duration": 0.358953,
     "end_time": "2020-12-22T13:31:25.848463",
     "exception": false,
     "start_time": "2020-12-22T13:31:25.489510",
     "status": "completed"
    },
    "tags": []
   },
   "outputs": [
    {
     "name": "stdout",
     "output_type": "stream",
     "text": [
      "[[2.74489224e-02]\n",
      " [1.51277184e-02]\n",
      " [6.85181822e-09]\n",
      " [1.35722846e-01]\n",
      " [1.38551652e-01]\n",
      " [9.38595533e-02]\n",
      " [8.60245347e-01]\n",
      " [1.84208155e-03]\n",
      " [5.74289918e-01]\n",
      " [2.56210566e-04]\n",
      " [1.44937962e-01]\n",
      " [4.79303449e-01]\n",
      " [9.99628663e-01]\n",
      " [5.70902421e-06]\n",
      " [9.99971449e-01]\n",
      " [9.98966217e-01]\n",
      " [2.02836394e-02]\n",
      " [5.07085383e-01]\n",
      " [4.63215888e-01]\n",
      " [2.01889873e-03]\n",
      " [9.91013110e-01]\n",
      " [1.83706105e-01]\n",
      " [9.99896169e-01]\n",
      " [5.83440065e-04]\n",
      " [9.95187521e-01]\n",
      " [3.86143847e-06]\n",
      " [9.99252558e-01]\n",
      " [5.30703902e-01]\n",
      " [6.20563030e-01]\n",
      " [8.35285027e-05]\n",
      " [9.08150614e-05]\n",
      " [2.46495008e-04]\n",
      " [6.95622563e-02]\n",
      " [2.07673341e-01]\n",
      " [9.96578634e-01]\n",
      " [4.10896271e-01]\n",
      " [2.50623286e-01]\n",
      " [6.41752422e-01]\n",
      " [1.11791849e-01]\n",
      " [5.53604960e-01]\n",
      " [1.69376135e-02]\n",
      " [4.48150188e-01]\n",
      " [1.22699589e-01]\n",
      " [9.26231205e-01]\n",
      " [9.99940991e-01]\n",
      " [1.08275443e-01]\n",
      " [7.89846539e-01]\n",
      " [7.66399205e-02]\n",
      " [9.82276320e-01]\n",
      " [4.54162061e-02]\n",
      " [2.36992091e-01]\n",
      " [4.76237118e-01]\n",
      " [9.99984860e-01]\n",
      " [9.99996722e-01]\n",
      " [7.46239066e-01]\n",
      " [2.88655741e-07]\n",
      " [1.35092735e-01]\n",
      " [1.07651919e-01]\n",
      " [1.76981091e-03]\n",
      " [9.99999821e-01]\n",
      " [6.93604648e-02]\n",
      " [1.71628445e-01]\n",
      " [5.89370430e-02]\n",
      " [9.88497376e-01]\n",
      " [1.52164944e-06]\n",
      " [9.41913247e-01]\n",
      " [9.97764111e-01]\n",
      " [6.31645024e-02]\n",
      " [1.96186870e-01]\n",
      " [3.04688604e-16]\n",
      " [9.70127225e-01]\n",
      " [5.46771884e-02]\n",
      " [3.17887545e-01]\n",
      " [2.47466832e-01]\n",
      " [9.99983072e-01]\n",
      " [1.22690096e-06]\n",
      " [1.45652771e-01]\n",
      " [9.99874473e-01]\n",
      " [1.36070430e-01]\n",
      " [9.70127225e-01]\n",
      " [6.16536438e-01]\n",
      " [9.85456347e-01]\n",
      " [4.45183784e-01]\n",
      " [1.44937962e-01]\n",
      " [4.18669879e-02]\n",
      " [6.92278147e-04]\n",
      " [9.08074498e-01]\n",
      " [6.45745218e-01]\n",
      " [8.56173158e-01]\n",
      " [9.99990940e-01]\n",
      " [3.19579899e-01]\n",
      " [1.44380569e-01]\n",
      " [9.99994397e-01]\n",
      " [1.45652771e-01]\n",
      " [8.17747116e-01]\n",
      " [1.07981652e-01]\n",
      " [1.00000000e+00]\n",
      " [1.39890015e-01]\n",
      " [6.45251751e-01]\n",
      " [1.46053821e-01]\n",
      " [9.99985754e-01]\n",
      " [1.06975526e-01]\n",
      " [7.66399205e-02]\n",
      " [1.21510059e-01]\n",
      " [9.05384123e-02]\n",
      " [2.05091447e-01]\n",
      " [4.52555418e-02]\n",
      " [7.66399205e-02]\n",
      " [1.48761153e-01]\n",
      " [3.95638645e-02]\n",
      " [1.42809749e-03]\n",
      " [8.56210649e-01]\n",
      " [9.99716997e-01]\n",
      " [9.97254014e-01]\n",
      " [1.00000000e+00]\n",
      " [7.73867130e-01]\n",
      " [7.86936879e-02]\n",
      " [9.94087040e-01]\n",
      " [5.60790300e-04]\n",
      " [8.75994921e-01]\n",
      " [9.97478664e-01]\n",
      " [7.69008329e-05]\n",
      " [9.99997020e-01]\n",
      " [1.33903265e-01]\n",
      " [7.66399205e-02]\n",
      " [9.58195627e-01]\n",
      " [6.42056763e-02]\n",
      " [9.98611987e-01]\n",
      " [2.79145002e-01]\n",
      " [9.24451351e-02]\n",
      " [1.51325196e-01]\n",
      " [6.27861738e-01]\n",
      " [5.07708151e-08]\n",
      " [4.78833914e-04]\n",
      " [1.19432151e-01]\n",
      " [9.21187699e-02]\n",
      " [3.72260094e-01]\n",
      " [5.54556549e-02]\n",
      " [6.43320024e-01]\n",
      " [2.84624617e-16]\n",
      " [7.81278650e-05]\n",
      " [9.99943554e-01]\n",
      " [2.74431983e-07]\n",
      " [2.46127844e-02]\n",
      " [5.73933184e-01]\n",
      " [1.75574996e-07]\n",
      " [1.97117627e-02]\n",
      " [6.44904673e-02]\n",
      " [4.48150188e-01]\n",
      " [3.12983990e-04]\n",
      " [9.88683760e-01]\n",
      " [8.29043388e-02]\n",
      " [4.98175621e-03]\n",
      " [3.98650765e-02]\n",
      " [1.28372908e-01]\n",
      " [9.16137397e-02]\n",
      " [9.99994516e-01]\n",
      " [6.44325495e-01]\n",
      " [5.73933184e-01]\n",
      " [9.47919071e-01]\n",
      " [8.56151700e-01]\n",
      " [4.43536460e-01]\n",
      " [8.90749931e-01]\n",
      " [1.40792459e-01]\n",
      " [2.67681748e-01]\n",
      " [2.07088262e-01]\n",
      " [2.71450996e-01]\n",
      " [3.44133412e-07]\n",
      " [9.99990046e-01]\n",
      " [6.40631318e-01]\n",
      " [1.43331230e-01]\n",
      " [3.20627242e-01]\n",
      " [1.04026467e-01]\n",
      " [8.09482336e-02]\n",
      " [5.59628010e-03]\n",
      " [9.99717474e-01]\n",
      " [9.48557734e-01]\n",
      " [9.93830383e-01]\n",
      " [8.30010951e-01]\n",
      " [5.86063862e-01]\n",
      " [1.36070430e-01]\n",
      " [4.74291742e-02]\n",
      " [9.99804139e-01]\n",
      " [7.66399205e-02]\n",
      " [9.99995112e-01]\n",
      " [2.39468306e-01]\n",
      " [9.99930024e-01]\n",
      " [1.72674656e-04]\n",
      " [2.58034106e-06]\n",
      " [2.52807617e-01]\n",
      " [2.13826954e-01]\n",
      " [4.32768166e-01]\n",
      " [1.95365101e-01]\n",
      " [7.91347166e-09]\n",
      " [9.99985814e-01]\n",
      " [1.45091444e-01]\n",
      " [9.99463916e-01]\n",
      " [6.47406936e-01]\n",
      " [4.78021204e-02]\n",
      " [2.51087666e-01]\n",
      " [8.67753148e-01]\n",
      " [9.99992192e-01]\n",
      " [9.59350467e-02]\n",
      " [9.99995470e-01]\n",
      " [4.93938327e-02]\n",
      " [1.96157098e-01]\n",
      " [7.38276780e-01]\n",
      " [4.65718806e-02]\n",
      " [9.99950767e-01]\n",
      " [1.08208984e-01]\n",
      " [2.31751233e-01]\n",
      " [1.41021609e-01]\n",
      " [1.47789717e-04]\n",
      " [9.98160362e-01]\n",
      " [2.84820259e-01]\n",
      " [9.40686166e-02]\n",
      " [8.56338978e-01]\n",
      " [1.30653381e-04]\n",
      " [9.99994040e-01]\n",
      " [1.45652771e-01]\n",
      " [9.97316122e-01]\n",
      " [5.48264086e-02]\n",
      " [8.85969162e-01]\n",
      " [5.45810759e-02]\n",
      " [1.09569699e-01]\n",
      " [4.29389983e-01]\n",
      " [7.67721236e-02]\n",
      " [8.56173158e-01]\n",
      " [1.58895344e-01]\n",
      " [2.04036355e-01]\n",
      " [3.49789858e-04]\n",
      " [9.99977112e-01]\n",
      " [2.27569908e-01]\n",
      " [7.67632425e-02]\n",
      " [9.96879697e-01]\n",
      " [4.87433672e-02]\n",
      " [4.52508807e-01]\n",
      " [4.76859361e-01]\n",
      " [9.99976695e-01]\n",
      " [9.99993801e-01]\n",
      " [1.02514982e-01]\n",
      " [9.98053312e-01]\n",
      " [4.95999166e-06]\n",
      " [1.44899607e-01]\n",
      " [1.60857280e-06]\n",
      " [3.59541744e-01]\n",
      " [9.07285452e-01]\n",
      " [6.65829430e-06]\n",
      " [8.75994921e-01]\n",
      " [1.33025050e-02]\n",
      " [9.99999225e-01]\n",
      " [4.88033295e-02]\n",
      " [4.41717207e-02]\n",
      " [9.46074128e-02]\n",
      " [1.56576842e-01]\n",
      " [1.43331230e-01]\n",
      " [7.66399205e-02]\n",
      " [1.37278229e-01]\n",
      " [9.66449082e-01]\n",
      " [5.45612276e-02]\n",
      " [2.75969505e-04]\n",
      " [5.46371043e-02]\n",
      " [9.99950111e-01]\n",
      " [9.95280027e-01]\n",
      " [7.59288847e-01]\n",
      " [1.44937962e-01]\n",
      " [1.83752477e-02]\n",
      " [1.43331230e-01]\n",
      " [2.50623286e-01]\n",
      " [7.01766014e-02]\n",
      " [4.00045514e-03]\n",
      " [7.66399205e-02]\n",
      " [9.99959469e-01]\n",
      " [9.96978521e-01]\n",
      " [8.09361041e-02]\n",
      " [9.30037141e-01]\n",
      " [8.22047889e-02]\n",
      " [6.23276830e-03]\n",
      " [1.48679376e-01]\n",
      " [4.81221378e-02]\n",
      " [6.40114963e-01]\n",
      " [9.99299407e-01]\n",
      " [8.56173158e-01]\n",
      " [3.22502255e-02]\n",
      " [9.89573956e-01]\n",
      " [1.28844172e-01]\n",
      " [1.41941726e-01]\n",
      " [2.54051030e-01]\n",
      " [8.09482336e-02]\n",
      " [1.45652771e-01]\n",
      " [2.78421909e-01]\n",
      " [8.59405160e-01]\n",
      " [8.09482336e-02]\n",
      " [5.35249710e-03]\n",
      " [1.39602363e-01]\n",
      " [1.21838689e-01]\n",
      " [1.00000000e+00]\n",
      " [8.35285027e-05]\n",
      " [7.76105523e-02]\n",
      " [1.39582276e-01]\n",
      " [1.49977833e-01]\n",
      " [7.50900865e-01]\n",
      " [1.27458952e-06]\n",
      " [9.34730768e-02]\n",
      " [8.56173158e-01]\n",
      " [9.99995232e-01]\n",
      " [5.23367524e-03]\n",
      " [8.67368460e-01]\n",
      " [7.80314207e-04]\n",
      " [6.88087344e-02]\n",
      " [5.98171651e-02]\n",
      " [5.28743863e-01]\n",
      " [1.43447548e-01]\n",
      " [6.51518822e-01]\n",
      " [9.99563575e-01]\n",
      " [9.98453140e-01]\n",
      " [4.49064374e-03]\n",
      " [4.63333130e-02]\n",
      " [1.32748991e-01]\n",
      " [2.31713057e-04]\n",
      " [1.21510059e-01]\n",
      " [4.87127960e-01]\n",
      " [5.54556549e-02]\n",
      " [5.58703542e-01]\n",
      " [9.99999464e-01]\n",
      " [7.57418573e-02]\n",
      " [9.99999404e-01]\n",
      " [2.18960643e-03]\n",
      " [1.56107068e-01]\n",
      " [4.24374640e-02]\n",
      " [9.96079564e-01]\n",
      " [7.94802725e-01]\n",
      " [8.09361041e-02]\n",
      " [3.50822806e-01]\n",
      " [1.32900745e-01]\n",
      " [4.26491976e-01]\n",
      " [1.68944210e-01]\n",
      " [1.36615290e-05]\n",
      " [8.38646293e-03]\n",
      " [8.09482336e-02]\n",
      " [4.41655517e-02]\n",
      " [1.49024189e-01]\n",
      " [1.90758705e-03]\n",
      " [1.00000000e+00]\n",
      " [1.84446573e-04]\n",
      " [6.63848042e-01]\n",
      " [5.54556549e-02]\n",
      " [1.16617173e-01]\n",
      " [4.13151681e-02]\n",
      " [9.44033623e-01]\n",
      " [5.25388479e-01]\n",
      " [4.93938327e-02]\n",
      " [1.48057938e-04]\n",
      " [3.93371735e-08]\n",
      " [9.97469068e-01]\n",
      " [4.33319002e-01]\n",
      " [1.00000000e+00]\n",
      " [1.44861281e-01]\n",
      " [7.66399205e-02]\n",
      " [6.44215584e-01]\n",
      " [1.75432888e-07]\n",
      " [9.99831796e-01]\n",
      " [9.44033623e-01]\n",
      " [1.35722846e-01]\n",
      " [9.99999642e-01]\n",
      " [7.81381905e-01]\n",
      " [6.92397356e-04]\n",
      " [6.06696486e-01]\n",
      " [5.82754731e-01]\n",
      " [6.95439994e-01]\n",
      " [2.10405588e-02]\n",
      " [9.99540925e-01]\n",
      " [3.99870574e-02]\n",
      " [2.19765186e-01]\n",
      " [9.99999881e-01]\n",
      " [1.00000000e+00]\n",
      " [3.46285105e-03]\n",
      " [4.63421941e-02]\n",
      " [6.25172257e-03]\n",
      " [2.25192726e-01]\n",
      " [7.66399205e-02]\n",
      " [8.22981894e-02]\n",
      " [3.08559418e-01]\n",
      " [2.96690017e-01]\n",
      " [1.42224014e-01]\n",
      " [9.99894142e-01]\n",
      " [9.19870436e-02]\n",
      " [5.21361828e-04]\n",
      " [4.52669561e-02]\n",
      " [2.68975157e-07]\n",
      " [5.53196478e-05]\n",
      " [9.99816298e-01]\n",
      " [9.81132388e-01]\n",
      " [3.58695388e-02]\n",
      " [3.20134804e-12]\n",
      " [9.99747157e-01]\n",
      " [6.79006279e-02]\n",
      " [9.99981582e-01]\n",
      " [6.41828477e-02]\n",
      " [7.07130432e-02]\n",
      " [9.99933183e-01]\n",
      " [1.61044002e-02]\n",
      " [9.99403119e-01]\n",
      " [6.59252346e-01]\n",
      " [9.95576322e-01]\n",
      " [7.00797141e-02]\n",
      " [2.62405872e-02]\n",
      " [7.71298403e-07]\n",
      " [8.56135726e-01]\n",
      " [9.89218175e-01]\n",
      " [8.56173158e-01]\n",
      " [9.99998927e-01]\n",
      " [4.13066298e-01]\n",
      " [1.45652771e-01]\n",
      " [9.99038577e-01]\n",
      " [1.24061167e-01]\n",
      " [1.45652801e-01]\n",
      " [9.94022548e-01]]\n"
     ]
    }
   ],
   "source": [
    "preds = model.predict(x=scaled_test_data)\n",
    "print (preds)"
   ]
  },
  {
   "cell_type": "code",
   "execution_count": 58,
   "metadata": {
    "execution": {
     "iopub.execute_input": "2020-12-22T13:31:26.257649Z",
     "iopub.status.busy": "2020-12-22T13:31:26.256990Z",
     "iopub.status.idle": "2020-12-22T13:31:26.263540Z",
     "shell.execute_reply": "2020-12-22T13:31:26.264361Z"
    },
    "papermill": {
     "duration": 0.212515,
     "end_time": "2020-12-22T13:31:26.264562",
     "exception": false,
     "start_time": "2020-12-22T13:31:26.052047",
     "status": "completed"
    },
    "tags": []
   },
   "outputs": [],
   "source": [
    "pred_list = []\n",
    "\n",
    "for pred in preds:\n",
    "    if pred > 0.5:\n",
    "        y_pred = 1\n",
    "    else:\n",
    "        y_pred = 0\n",
    "        \n",
    "    pred_list.append(y_pred)"
   ]
  },
  {
   "cell_type": "code",
   "execution_count": 59,
   "metadata": {
    "execution": {
     "iopub.execute_input": "2020-12-22T13:31:26.672762Z",
     "iopub.status.busy": "2020-12-22T13:31:26.672071Z",
     "iopub.status.idle": "2020-12-22T13:31:26.686817Z",
     "shell.execute_reply": "2020-12-22T13:31:26.686229Z"
    },
    "papermill": {
     "duration": 0.218078,
     "end_time": "2020-12-22T13:31:26.686949",
     "exception": false,
     "start_time": "2020-12-22T13:31:26.468871",
     "status": "completed"
    },
    "tags": []
   },
   "outputs": [
    {
     "data": {
      "text/plain": [
       "[0,\n",
       " 0,\n",
       " 0,\n",
       " 0,\n",
       " 0,\n",
       " 0,\n",
       " 1,\n",
       " 0,\n",
       " 1,\n",
       " 0,\n",
       " 0,\n",
       " 0,\n",
       " 1,\n",
       " 0,\n",
       " 1,\n",
       " 1,\n",
       " 0,\n",
       " 1,\n",
       " 0,\n",
       " 0,\n",
       " 1,\n",
       " 0,\n",
       " 1,\n",
       " 0,\n",
       " 1,\n",
       " 0,\n",
       " 1,\n",
       " 1,\n",
       " 1,\n",
       " 0,\n",
       " 0,\n",
       " 0,\n",
       " 0,\n",
       " 0,\n",
       " 1,\n",
       " 0,\n",
       " 0,\n",
       " 1,\n",
       " 0,\n",
       " 1,\n",
       " 0,\n",
       " 0,\n",
       " 0,\n",
       " 1,\n",
       " 1,\n",
       " 0,\n",
       " 1,\n",
       " 0,\n",
       " 1,\n",
       " 0,\n",
       " 0,\n",
       " 0,\n",
       " 1,\n",
       " 1,\n",
       " 1,\n",
       " 0,\n",
       " 0,\n",
       " 0,\n",
       " 0,\n",
       " 1,\n",
       " 0,\n",
       " 0,\n",
       " 0,\n",
       " 1,\n",
       " 0,\n",
       " 1,\n",
       " 1,\n",
       " 0,\n",
       " 0,\n",
       " 0,\n",
       " 1,\n",
       " 0,\n",
       " 0,\n",
       " 0,\n",
       " 1,\n",
       " 0,\n",
       " 0,\n",
       " 1,\n",
       " 0,\n",
       " 1,\n",
       " 1,\n",
       " 1,\n",
       " 0,\n",
       " 0,\n",
       " 0,\n",
       " 0,\n",
       " 1,\n",
       " 1,\n",
       " 1,\n",
       " 1,\n",
       " 0,\n",
       " 0,\n",
       " 1,\n",
       " 0,\n",
       " 1,\n",
       " 0,\n",
       " 1,\n",
       " 0,\n",
       " 1,\n",
       " 0,\n",
       " 1,\n",
       " 0,\n",
       " 0,\n",
       " 0,\n",
       " 0,\n",
       " 0,\n",
       " 0,\n",
       " 0,\n",
       " 0,\n",
       " 0,\n",
       " 0,\n",
       " 1,\n",
       " 1,\n",
       " 1,\n",
       " 1,\n",
       " 1,\n",
       " 0,\n",
       " 1,\n",
       " 0,\n",
       " 1,\n",
       " 1,\n",
       " 0,\n",
       " 1,\n",
       " 0,\n",
       " 0,\n",
       " 1,\n",
       " 0,\n",
       " 1,\n",
       " 0,\n",
       " 0,\n",
       " 0,\n",
       " 1,\n",
       " 0,\n",
       " 0,\n",
       " 0,\n",
       " 0,\n",
       " 0,\n",
       " 0,\n",
       " 1,\n",
       " 0,\n",
       " 0,\n",
       " 1,\n",
       " 0,\n",
       " 0,\n",
       " 1,\n",
       " 0,\n",
       " 0,\n",
       " 0,\n",
       " 0,\n",
       " 0,\n",
       " 1,\n",
       " 0,\n",
       " 0,\n",
       " 0,\n",
       " 0,\n",
       " 0,\n",
       " 1,\n",
       " 1,\n",
       " 1,\n",
       " 1,\n",
       " 1,\n",
       " 0,\n",
       " 1,\n",
       " 0,\n",
       " 0,\n",
       " 0,\n",
       " 0,\n",
       " 0,\n",
       " 1,\n",
       " 1,\n",
       " 0,\n",
       " 0,\n",
       " 0,\n",
       " 0,\n",
       " 0,\n",
       " 1,\n",
       " 1,\n",
       " 1,\n",
       " 1,\n",
       " 1,\n",
       " 0,\n",
       " 0,\n",
       " 1,\n",
       " 0,\n",
       " 1,\n",
       " 0,\n",
       " 1,\n",
       " 0,\n",
       " 0,\n",
       " 0,\n",
       " 0,\n",
       " 0,\n",
       " 0,\n",
       " 0,\n",
       " 1,\n",
       " 0,\n",
       " 1,\n",
       " 1,\n",
       " 0,\n",
       " 0,\n",
       " 1,\n",
       " 1,\n",
       " 0,\n",
       " 1,\n",
       " 0,\n",
       " 0,\n",
       " 1,\n",
       " 0,\n",
       " 1,\n",
       " 0,\n",
       " 0,\n",
       " 0,\n",
       " 0,\n",
       " 1,\n",
       " 0,\n",
       " 0,\n",
       " 1,\n",
       " 0,\n",
       " 1,\n",
       " 0,\n",
       " 1,\n",
       " 0,\n",
       " 1,\n",
       " 0,\n",
       " 0,\n",
       " 0,\n",
       " 0,\n",
       " 1,\n",
       " 0,\n",
       " 0,\n",
       " 0,\n",
       " 1,\n",
       " 0,\n",
       " 0,\n",
       " 1,\n",
       " 0,\n",
       " 0,\n",
       " 0,\n",
       " 1,\n",
       " 1,\n",
       " 0,\n",
       " 1,\n",
       " 0,\n",
       " 0,\n",
       " 0,\n",
       " 0,\n",
       " 1,\n",
       " 0,\n",
       " 1,\n",
       " 0,\n",
       " 1,\n",
       " 0,\n",
       " 0,\n",
       " 0,\n",
       " 0,\n",
       " 0,\n",
       " 0,\n",
       " 0,\n",
       " 1,\n",
       " 0,\n",
       " 0,\n",
       " 0,\n",
       " 1,\n",
       " 1,\n",
       " 1,\n",
       " 0,\n",
       " 0,\n",
       " 0,\n",
       " 0,\n",
       " 0,\n",
       " 0,\n",
       " 0,\n",
       " 1,\n",
       " 1,\n",
       " 0,\n",
       " 1,\n",
       " 0,\n",
       " 0,\n",
       " 0,\n",
       " 0,\n",
       " 1,\n",
       " 1,\n",
       " 1,\n",
       " 0,\n",
       " 1,\n",
       " 0,\n",
       " 0,\n",
       " 0,\n",
       " 0,\n",
       " 0,\n",
       " 0,\n",
       " 1,\n",
       " 0,\n",
       " 0,\n",
       " 0,\n",
       " 0,\n",
       " 1,\n",
       " 0,\n",
       " 0,\n",
       " 0,\n",
       " 0,\n",
       " 1,\n",
       " 0,\n",
       " 0,\n",
       " 1,\n",
       " 1,\n",
       " 0,\n",
       " 1,\n",
       " 0,\n",
       " 0,\n",
       " 0,\n",
       " 1,\n",
       " 0,\n",
       " 1,\n",
       " 1,\n",
       " 1,\n",
       " 0,\n",
       " 0,\n",
       " 0,\n",
       " 0,\n",
       " 0,\n",
       " 0,\n",
       " 0,\n",
       " 1,\n",
       " 1,\n",
       " 0,\n",
       " 1,\n",
       " 0,\n",
       " 0,\n",
       " 0,\n",
       " 1,\n",
       " 1,\n",
       " 0,\n",
       " 0,\n",
       " 0,\n",
       " 0,\n",
       " 0,\n",
       " 0,\n",
       " 0,\n",
       " 0,\n",
       " 0,\n",
       " 0,\n",
       " 0,\n",
       " 1,\n",
       " 0,\n",
       " 1,\n",
       " 0,\n",
       " 0,\n",
       " 0,\n",
       " 1,\n",
       " 1,\n",
       " 0,\n",
       " 0,\n",
       " 0,\n",
       " 1,\n",
       " 0,\n",
       " 1,\n",
       " 0,\n",
       " 0,\n",
       " 1,\n",
       " 0,\n",
       " 1,\n",
       " 1,\n",
       " 0,\n",
       " 1,\n",
       " 1,\n",
       " 0,\n",
       " 1,\n",
       " 1,\n",
       " 1,\n",
       " 0,\n",
       " 1,\n",
       " 0,\n",
       " 0,\n",
       " 1,\n",
       " 1,\n",
       " 0,\n",
       " 0,\n",
       " 0,\n",
       " 0,\n",
       " 0,\n",
       " 0,\n",
       " 0,\n",
       " 0,\n",
       " 0,\n",
       " 1,\n",
       " 0,\n",
       " 0,\n",
       " 0,\n",
       " 0,\n",
       " 0,\n",
       " 1,\n",
       " 1,\n",
       " 0,\n",
       " 0,\n",
       " 1,\n",
       " 0,\n",
       " 1,\n",
       " 0,\n",
       " 0,\n",
       " 1,\n",
       " 0,\n",
       " 1,\n",
       " 1,\n",
       " 1,\n",
       " 0,\n",
       " 0,\n",
       " 0,\n",
       " 1,\n",
       " 1,\n",
       " 1,\n",
       " 1,\n",
       " 0,\n",
       " 0,\n",
       " 1,\n",
       " 0,\n",
       " 0,\n",
       " 1]"
      ]
     },
     "execution_count": 59,
     "metadata": {},
     "output_type": "execute_result"
    }
   ],
   "source": [
    "pred_list"
   ]
  },
  {
   "cell_type": "code",
   "execution_count": 60,
   "metadata": {
    "execution": {
     "iopub.execute_input": "2020-12-22T13:31:27.096839Z",
     "iopub.status.busy": "2020-12-22T13:31:27.096155Z",
     "iopub.status.idle": "2020-12-22T13:31:27.099313Z",
     "shell.execute_reply": "2020-12-22T13:31:27.099880Z"
    },
    "papermill": {
     "duration": 0.213223,
     "end_time": "2020-12-22T13:31:27.100029",
     "exception": false,
     "start_time": "2020-12-22T13:31:26.886806",
     "status": "completed"
    },
    "tags": []
   },
   "outputs": [
    {
     "data": {
      "text/plain": [
       "418"
      ]
     },
     "execution_count": 60,
     "metadata": {},
     "output_type": "execute_result"
    }
   ],
   "source": [
    "len(pred_list)"
   ]
  },
  {
   "cell_type": "code",
   "execution_count": 61,
   "metadata": {
    "execution": {
     "iopub.execute_input": "2020-12-22T13:31:27.562024Z",
     "iopub.status.busy": "2020-12-22T13:31:27.561191Z",
     "iopub.status.idle": "2020-12-22T13:31:27.577664Z",
     "shell.execute_reply": "2020-12-22T13:31:27.577015Z"
    },
    "papermill": {
     "duration": 0.273103,
     "end_time": "2020-12-22T13:31:27.577792",
     "exception": false,
     "start_time": "2020-12-22T13:31:27.304689",
     "status": "completed"
    },
    "tags": []
   },
   "outputs": [
    {
     "data": {
      "text/html": [
       "<div>\n",
       "<style scoped>\n",
       "    .dataframe tbody tr th:only-of-type {\n",
       "        vertical-align: middle;\n",
       "    }\n",
       "\n",
       "    .dataframe tbody tr th {\n",
       "        vertical-align: top;\n",
       "    }\n",
       "\n",
       "    .dataframe thead th {\n",
       "        text-align: right;\n",
       "    }\n",
       "</style>\n",
       "<table border=\"1\" class=\"dataframe\">\n",
       "  <thead>\n",
       "    <tr style=\"text-align: right;\">\n",
       "      <th></th>\n",
       "      <th>PassengerId</th>\n",
       "      <th>Survived</th>\n",
       "    </tr>\n",
       "  </thead>\n",
       "  <tbody>\n",
       "    <tr>\n",
       "      <th>0</th>\n",
       "      <td>892</td>\n",
       "      <td>0</td>\n",
       "    </tr>\n",
       "    <tr>\n",
       "      <th>1</th>\n",
       "      <td>893</td>\n",
       "      <td>1</td>\n",
       "    </tr>\n",
       "    <tr>\n",
       "      <th>2</th>\n",
       "      <td>894</td>\n",
       "      <td>0</td>\n",
       "    </tr>\n",
       "    <tr>\n",
       "      <th>3</th>\n",
       "      <td>895</td>\n",
       "      <td>0</td>\n",
       "    </tr>\n",
       "    <tr>\n",
       "      <th>4</th>\n",
       "      <td>896</td>\n",
       "      <td>1</td>\n",
       "    </tr>\n",
       "    <tr>\n",
       "      <th>...</th>\n",
       "      <td>...</td>\n",
       "      <td>...</td>\n",
       "    </tr>\n",
       "    <tr>\n",
       "      <th>413</th>\n",
       "      <td>1305</td>\n",
       "      <td>0</td>\n",
       "    </tr>\n",
       "    <tr>\n",
       "      <th>414</th>\n",
       "      <td>1306</td>\n",
       "      <td>1</td>\n",
       "    </tr>\n",
       "    <tr>\n",
       "      <th>415</th>\n",
       "      <td>1307</td>\n",
       "      <td>0</td>\n",
       "    </tr>\n",
       "    <tr>\n",
       "      <th>416</th>\n",
       "      <td>1308</td>\n",
       "      <td>0</td>\n",
       "    </tr>\n",
       "    <tr>\n",
       "      <th>417</th>\n",
       "      <td>1309</td>\n",
       "      <td>0</td>\n",
       "    </tr>\n",
       "  </tbody>\n",
       "</table>\n",
       "<p>418 rows × 2 columns</p>\n",
       "</div>"
      ],
      "text/plain": [
       "     PassengerId  Survived\n",
       "0            892         0\n",
       "1            893         1\n",
       "2            894         0\n",
       "3            895         0\n",
       "4            896         1\n",
       "..           ...       ...\n",
       "413         1305         0\n",
       "414         1306         1\n",
       "415         1307         0\n",
       "416         1308         0\n",
       "417         1309         0\n",
       "\n",
       "[418 rows x 2 columns]"
      ]
     },
     "execution_count": 61,
     "metadata": {},
     "output_type": "execute_result"
    }
   ],
   "source": [
    "sample_sub = pd.read_csv('../input/titanic/gender_submission.csv')\n",
    "sample_sub"
   ]
  },
  {
   "cell_type": "code",
   "execution_count": 62,
   "metadata": {
    "execution": {
     "iopub.execute_input": "2020-12-22T13:31:27.993507Z",
     "iopub.status.busy": "2020-12-22T13:31:27.992778Z",
     "iopub.status.idle": "2020-12-22T13:31:27.996962Z",
     "shell.execute_reply": "2020-12-22T13:31:27.996380Z"
    },
    "papermill": {
     "duration": 0.216007,
     "end_time": "2020-12-22T13:31:27.997095",
     "exception": false,
     "start_time": "2020-12-22T13:31:27.781088",
     "status": "completed"
    },
    "tags": []
   },
   "outputs": [],
   "source": [
    "sample_sub['Survived'] = pred_list"
   ]
  },
  {
   "cell_type": "code",
   "execution_count": 63,
   "metadata": {
    "execution": {
     "iopub.execute_input": "2020-12-22T13:31:28.426882Z",
     "iopub.status.busy": "2020-12-22T13:31:28.425681Z",
     "iopub.status.idle": "2020-12-22T13:31:28.431458Z",
     "shell.execute_reply": "2020-12-22T13:31:28.430852Z"
    },
    "papermill": {
     "duration": 0.219585,
     "end_time": "2020-12-22T13:31:28.431577",
     "exception": false,
     "start_time": "2020-12-22T13:31:28.211992",
     "status": "completed"
    },
    "tags": []
   },
   "outputs": [
    {
     "data": {
      "text/html": [
       "<div>\n",
       "<style scoped>\n",
       "    .dataframe tbody tr th:only-of-type {\n",
       "        vertical-align: middle;\n",
       "    }\n",
       "\n",
       "    .dataframe tbody tr th {\n",
       "        vertical-align: top;\n",
       "    }\n",
       "\n",
       "    .dataframe thead th {\n",
       "        text-align: right;\n",
       "    }\n",
       "</style>\n",
       "<table border=\"1\" class=\"dataframe\">\n",
       "  <thead>\n",
       "    <tr style=\"text-align: right;\">\n",
       "      <th></th>\n",
       "      <th>PassengerId</th>\n",
       "      <th>Survived</th>\n",
       "    </tr>\n",
       "  </thead>\n",
       "  <tbody>\n",
       "    <tr>\n",
       "      <th>0</th>\n",
       "      <td>892</td>\n",
       "      <td>0</td>\n",
       "    </tr>\n",
       "    <tr>\n",
       "      <th>1</th>\n",
       "      <td>893</td>\n",
       "      <td>0</td>\n",
       "    </tr>\n",
       "    <tr>\n",
       "      <th>2</th>\n",
       "      <td>894</td>\n",
       "      <td>0</td>\n",
       "    </tr>\n",
       "    <tr>\n",
       "      <th>3</th>\n",
       "      <td>895</td>\n",
       "      <td>0</td>\n",
       "    </tr>\n",
       "    <tr>\n",
       "      <th>4</th>\n",
       "      <td>896</td>\n",
       "      <td>0</td>\n",
       "    </tr>\n",
       "    <tr>\n",
       "      <th>...</th>\n",
       "      <td>...</td>\n",
       "      <td>...</td>\n",
       "    </tr>\n",
       "    <tr>\n",
       "      <th>413</th>\n",
       "      <td>1305</td>\n",
       "      <td>0</td>\n",
       "    </tr>\n",
       "    <tr>\n",
       "      <th>414</th>\n",
       "      <td>1306</td>\n",
       "      <td>1</td>\n",
       "    </tr>\n",
       "    <tr>\n",
       "      <th>415</th>\n",
       "      <td>1307</td>\n",
       "      <td>0</td>\n",
       "    </tr>\n",
       "    <tr>\n",
       "      <th>416</th>\n",
       "      <td>1308</td>\n",
       "      <td>0</td>\n",
       "    </tr>\n",
       "    <tr>\n",
       "      <th>417</th>\n",
       "      <td>1309</td>\n",
       "      <td>1</td>\n",
       "    </tr>\n",
       "  </tbody>\n",
       "</table>\n",
       "<p>418 rows × 2 columns</p>\n",
       "</div>"
      ],
      "text/plain": [
       "     PassengerId  Survived\n",
       "0            892         0\n",
       "1            893         0\n",
       "2            894         0\n",
       "3            895         0\n",
       "4            896         0\n",
       "..           ...       ...\n",
       "413         1305         0\n",
       "414         1306         1\n",
       "415         1307         0\n",
       "416         1308         0\n",
       "417         1309         1\n",
       "\n",
       "[418 rows x 2 columns]"
      ]
     },
     "execution_count": 63,
     "metadata": {},
     "output_type": "execute_result"
    }
   ],
   "source": [
    "sample_sub"
   ]
  },
  {
   "cell_type": "code",
   "execution_count": 64,
   "metadata": {
    "execution": {
     "iopub.execute_input": "2020-12-22T13:31:28.853960Z",
     "iopub.status.busy": "2020-12-22T13:31:28.852837Z",
     "iopub.status.idle": "2020-12-22T13:31:29.113859Z",
     "shell.execute_reply": "2020-12-22T13:31:29.114409Z"
    },
    "papermill": {
     "duration": 0.47723,
     "end_time": "2020-12-22T13:31:29.114570",
     "exception": false,
     "start_time": "2020-12-22T13:31:28.637340",
     "status": "completed"
    },
    "tags": []
   },
   "outputs": [],
   "source": [
    "sample_sub.to_csv('submission.csv', index=False) #Dataframe to csv"
   ]
  },
  {
   "cell_type": "code",
   "execution_count": null,
   "metadata": {
    "papermill": {
     "duration": 0.202529,
     "end_time": "2020-12-22T13:31:29.522782",
     "exception": false,
     "start_time": "2020-12-22T13:31:29.320253",
     "status": "completed"
    },
    "tags": []
   },
   "outputs": [],
   "source": []
  }
 ],
 "metadata": {
  "kernelspec": {
   "display_name": "Python 3",
   "language": "python",
   "name": "python3"
  },
  "language_info": {
   "codemirror_mode": {
    "name": "ipython",
    "version": 3
   },
   "file_extension": ".py",
   "mimetype": "text/x-python",
   "name": "python",
   "nbconvert_exporter": "python",
   "pygments_lexer": "ipython3",
   "version": "3.7.6"
  },
  "papermill": {
   "duration": 45.154957,
   "end_time": "2020-12-22T13:31:29.836352",
   "environment_variables": {},
   "exception": null,
   "input_path": "__notebook__.ipynb",
   "output_path": "__notebook__.ipynb",
   "parameters": {},
   "start_time": "2020-12-22T13:30:44.681395",
   "version": "2.1.0"
  }
 },
 "nbformat": 4,
 "nbformat_minor": 4
}
